{
 "cells": [
  {
   "cell_type": "code",
   "execution_count": 1,
   "metadata": {},
   "outputs": [
    {
     "name": "stderr",
     "output_type": "stream",
     "text": [
      "UsageError: Line magic function `%` not found.\n"
     ]
    }
   ],
   "source": [
    "import os\n",
    "import pandas as pd\n",
    "import numpy as np\n",
    "import matplotlib.pyplot as plt \n",
    "% matplotlib inline"
   ]
  },
  {
   "cell_type": "code",
   "execution_count": 4,
   "metadata": {},
   "outputs": [],
   "source": [
    "# import the data\n",
    "df_08 = pd.read_csv('all_alpha_08.csv')\n",
    "df_18 = pd.read_csv('all_alpha_18.csv')"
   ]
  },
  {
   "cell_type": "code",
   "execution_count": 5,
   "metadata": {},
   "outputs": [
    {
     "data": {
      "text/plain": [
       "((2404, 18), (1611, 18))"
      ]
     },
     "execution_count": 5,
     "metadata": {},
     "output_type": "execute_result"
    }
   ],
   "source": [
    "df_08.shape , df_18.shape"
   ]
  },
  {
   "cell_type": "markdown",
   "metadata": {},
   "source": [
    "Two dataset contains 2404 and 1611 data points respectively. Both have 18 features describing each data point."
   ]
  },
  {
   "cell_type": "code",
   "execution_count": 6,
   "metadata": {},
   "outputs": [
    {
     "data": {
      "text/html": [
       "<div>\n",
       "<style scoped>\n",
       "    .dataframe tbody tr th:only-of-type {\n",
       "        vertical-align: middle;\n",
       "    }\n",
       "\n",
       "    .dataframe tbody tr th {\n",
       "        vertical-align: top;\n",
       "    }\n",
       "\n",
       "    .dataframe thead th {\n",
       "        text-align: right;\n",
       "    }\n",
       "</style>\n",
       "<table border=\"1\" class=\"dataframe\">\n",
       "  <thead>\n",
       "    <tr style=\"text-align: right;\">\n",
       "      <th></th>\n",
       "      <th>Model</th>\n",
       "      <th>Displ</th>\n",
       "      <th>Cyl</th>\n",
       "      <th>Trans</th>\n",
       "      <th>Drive</th>\n",
       "      <th>Fuel</th>\n",
       "      <th>Sales Area</th>\n",
       "      <th>Stnd</th>\n",
       "      <th>Underhood ID</th>\n",
       "      <th>Veh Class</th>\n",
       "      <th>Air Pollution Score</th>\n",
       "      <th>FE Calc Appr</th>\n",
       "      <th>City MPG</th>\n",
       "      <th>Hwy MPG</th>\n",
       "      <th>Cmb MPG</th>\n",
       "      <th>Unadj Cmb MPG</th>\n",
       "      <th>Greenhouse Gas Score</th>\n",
       "      <th>SmartWay</th>\n",
       "    </tr>\n",
       "  </thead>\n",
       "  <tbody>\n",
       "    <tr>\n",
       "      <th>0</th>\n",
       "      <td>ACURA MDX</td>\n",
       "      <td>3.7</td>\n",
       "      <td>(6 cyl)</td>\n",
       "      <td>Auto-S5</td>\n",
       "      <td>4WD</td>\n",
       "      <td>Gasoline</td>\n",
       "      <td>CA</td>\n",
       "      <td>U2</td>\n",
       "      <td>8HNXT03.7PKR</td>\n",
       "      <td>SUV</td>\n",
       "      <td>7</td>\n",
       "      <td>Drv</td>\n",
       "      <td>15</td>\n",
       "      <td>20</td>\n",
       "      <td>17</td>\n",
       "      <td>22.0527</td>\n",
       "      <td>4</td>\n",
       "      <td>no</td>\n",
       "    </tr>\n",
       "    <tr>\n",
       "      <th>1</th>\n",
       "      <td>ACURA MDX</td>\n",
       "      <td>3.7</td>\n",
       "      <td>(6 cyl)</td>\n",
       "      <td>Auto-S5</td>\n",
       "      <td>4WD</td>\n",
       "      <td>Gasoline</td>\n",
       "      <td>FA</td>\n",
       "      <td>B5</td>\n",
       "      <td>8HNXT03.7PKR</td>\n",
       "      <td>SUV</td>\n",
       "      <td>6</td>\n",
       "      <td>Drv</td>\n",
       "      <td>15</td>\n",
       "      <td>20</td>\n",
       "      <td>17</td>\n",
       "      <td>22.0527</td>\n",
       "      <td>4</td>\n",
       "      <td>no</td>\n",
       "    </tr>\n",
       "    <tr>\n",
       "      <th>2</th>\n",
       "      <td>ACURA RDX</td>\n",
       "      <td>2.3</td>\n",
       "      <td>(4 cyl)</td>\n",
       "      <td>Auto-S5</td>\n",
       "      <td>4WD</td>\n",
       "      <td>Gasoline</td>\n",
       "      <td>CA</td>\n",
       "      <td>U2</td>\n",
       "      <td>8HNXT02.3DKR</td>\n",
       "      <td>SUV</td>\n",
       "      <td>7</td>\n",
       "      <td>Drv</td>\n",
       "      <td>17</td>\n",
       "      <td>22</td>\n",
       "      <td>19</td>\n",
       "      <td>24.1745</td>\n",
       "      <td>5</td>\n",
       "      <td>no</td>\n",
       "    </tr>\n",
       "    <tr>\n",
       "      <th>3</th>\n",
       "      <td>ACURA RDX</td>\n",
       "      <td>2.3</td>\n",
       "      <td>(4 cyl)</td>\n",
       "      <td>Auto-S5</td>\n",
       "      <td>4WD</td>\n",
       "      <td>Gasoline</td>\n",
       "      <td>FA</td>\n",
       "      <td>B5</td>\n",
       "      <td>8HNXT02.3DKR</td>\n",
       "      <td>SUV</td>\n",
       "      <td>6</td>\n",
       "      <td>Drv</td>\n",
       "      <td>17</td>\n",
       "      <td>22</td>\n",
       "      <td>19</td>\n",
       "      <td>24.1745</td>\n",
       "      <td>5</td>\n",
       "      <td>no</td>\n",
       "    </tr>\n",
       "    <tr>\n",
       "      <th>4</th>\n",
       "      <td>ACURA RL</td>\n",
       "      <td>3.5</td>\n",
       "      <td>(6 cyl)</td>\n",
       "      <td>Auto-S5</td>\n",
       "      <td>4WD</td>\n",
       "      <td>Gasoline</td>\n",
       "      <td>CA</td>\n",
       "      <td>U2</td>\n",
       "      <td>8HNXV03.5HKR</td>\n",
       "      <td>midsize car</td>\n",
       "      <td>7</td>\n",
       "      <td>Drv</td>\n",
       "      <td>16</td>\n",
       "      <td>24</td>\n",
       "      <td>19</td>\n",
       "      <td>24.5629</td>\n",
       "      <td>5</td>\n",
       "      <td>no</td>\n",
       "    </tr>\n",
       "  </tbody>\n",
       "</table>\n",
       "</div>"
      ],
      "text/plain": [
       "       Model  Displ      Cyl    Trans Drive      Fuel Sales Area Stnd  \\\n",
       "0  ACURA MDX    3.7  (6 cyl)  Auto-S5   4WD  Gasoline         CA   U2   \n",
       "1  ACURA MDX    3.7  (6 cyl)  Auto-S5   4WD  Gasoline         FA   B5   \n",
       "2  ACURA RDX    2.3  (4 cyl)  Auto-S5   4WD  Gasoline         CA   U2   \n",
       "3  ACURA RDX    2.3  (4 cyl)  Auto-S5   4WD  Gasoline         FA   B5   \n",
       "4   ACURA RL    3.5  (6 cyl)  Auto-S5   4WD  Gasoline         CA   U2   \n",
       "\n",
       "   Underhood ID    Veh Class Air Pollution Score FE Calc Appr City MPG  \\\n",
       "0  8HNXT03.7PKR          SUV                   7          Drv       15   \n",
       "1  8HNXT03.7PKR          SUV                   6          Drv       15   \n",
       "2  8HNXT02.3DKR          SUV                   7          Drv       17   \n",
       "3  8HNXT02.3DKR          SUV                   6          Drv       17   \n",
       "4  8HNXV03.5HKR  midsize car                   7          Drv       16   \n",
       "\n",
       "  Hwy MPG Cmb MPG  Unadj Cmb MPG Greenhouse Gas Score SmartWay  \n",
       "0      20      17        22.0527                    4       no  \n",
       "1      20      17        22.0527                    4       no  \n",
       "2      22      19        24.1745                    5       no  \n",
       "3      22      19        24.1745                    5       no  \n",
       "4      24      19        24.5629                    5       no  "
      ]
     },
     "execution_count": 6,
     "metadata": {},
     "output_type": "execute_result"
    }
   ],
   "source": [
    "df_08.head()"
   ]
  },
  {
   "cell_type": "code",
   "execution_count": 7,
   "metadata": {},
   "outputs": [
    {
     "data": {
      "text/html": [
       "<div>\n",
       "<style scoped>\n",
       "    .dataframe tbody tr th:only-of-type {\n",
       "        vertical-align: middle;\n",
       "    }\n",
       "\n",
       "    .dataframe tbody tr th {\n",
       "        vertical-align: top;\n",
       "    }\n",
       "\n",
       "    .dataframe thead th {\n",
       "        text-align: right;\n",
       "    }\n",
       "</style>\n",
       "<table border=\"1\" class=\"dataframe\">\n",
       "  <thead>\n",
       "    <tr style=\"text-align: right;\">\n",
       "      <th></th>\n",
       "      <th>Model</th>\n",
       "      <th>Displ</th>\n",
       "      <th>Cyl</th>\n",
       "      <th>Trans</th>\n",
       "      <th>Drive</th>\n",
       "      <th>Fuel</th>\n",
       "      <th>Cert Region</th>\n",
       "      <th>Stnd</th>\n",
       "      <th>Stnd Description</th>\n",
       "      <th>Underhood ID</th>\n",
       "      <th>Veh Class</th>\n",
       "      <th>Air Pollution Score</th>\n",
       "      <th>City MPG</th>\n",
       "      <th>Hwy MPG</th>\n",
       "      <th>Cmb MPG</th>\n",
       "      <th>Greenhouse Gas Score</th>\n",
       "      <th>SmartWay</th>\n",
       "      <th>Comb CO2</th>\n",
       "    </tr>\n",
       "  </thead>\n",
       "  <tbody>\n",
       "    <tr>\n",
       "      <th>0</th>\n",
       "      <td>ACURA RDX</td>\n",
       "      <td>3.5</td>\n",
       "      <td>6.0</td>\n",
       "      <td>SemiAuto-6</td>\n",
       "      <td>2WD</td>\n",
       "      <td>Gasoline</td>\n",
       "      <td>FA</td>\n",
       "      <td>T3B125</td>\n",
       "      <td>Federal Tier 3 Bin 125</td>\n",
       "      <td>JHNXT03.5GV3</td>\n",
       "      <td>small SUV</td>\n",
       "      <td>3</td>\n",
       "      <td>20</td>\n",
       "      <td>28</td>\n",
       "      <td>23</td>\n",
       "      <td>5</td>\n",
       "      <td>No</td>\n",
       "      <td>386</td>\n",
       "    </tr>\n",
       "    <tr>\n",
       "      <th>1</th>\n",
       "      <td>ACURA RDX</td>\n",
       "      <td>3.5</td>\n",
       "      <td>6.0</td>\n",
       "      <td>SemiAuto-6</td>\n",
       "      <td>2WD</td>\n",
       "      <td>Gasoline</td>\n",
       "      <td>CA</td>\n",
       "      <td>U2</td>\n",
       "      <td>California LEV-II ULEV</td>\n",
       "      <td>JHNXT03.5GV3</td>\n",
       "      <td>small SUV</td>\n",
       "      <td>3</td>\n",
       "      <td>20</td>\n",
       "      <td>28</td>\n",
       "      <td>23</td>\n",
       "      <td>5</td>\n",
       "      <td>No</td>\n",
       "      <td>386</td>\n",
       "    </tr>\n",
       "    <tr>\n",
       "      <th>2</th>\n",
       "      <td>ACURA RDX</td>\n",
       "      <td>3.5</td>\n",
       "      <td>6.0</td>\n",
       "      <td>SemiAuto-6</td>\n",
       "      <td>4WD</td>\n",
       "      <td>Gasoline</td>\n",
       "      <td>FA</td>\n",
       "      <td>T3B125</td>\n",
       "      <td>Federal Tier 3 Bin 125</td>\n",
       "      <td>JHNXT03.5GV3</td>\n",
       "      <td>small SUV</td>\n",
       "      <td>3</td>\n",
       "      <td>19</td>\n",
       "      <td>27</td>\n",
       "      <td>22</td>\n",
       "      <td>4</td>\n",
       "      <td>No</td>\n",
       "      <td>402</td>\n",
       "    </tr>\n",
       "    <tr>\n",
       "      <th>3</th>\n",
       "      <td>ACURA RDX</td>\n",
       "      <td>3.5</td>\n",
       "      <td>6.0</td>\n",
       "      <td>SemiAuto-6</td>\n",
       "      <td>4WD</td>\n",
       "      <td>Gasoline</td>\n",
       "      <td>CA</td>\n",
       "      <td>U2</td>\n",
       "      <td>California LEV-II ULEV</td>\n",
       "      <td>JHNXT03.5GV3</td>\n",
       "      <td>small SUV</td>\n",
       "      <td>3</td>\n",
       "      <td>19</td>\n",
       "      <td>27</td>\n",
       "      <td>22</td>\n",
       "      <td>4</td>\n",
       "      <td>No</td>\n",
       "      <td>402</td>\n",
       "    </tr>\n",
       "    <tr>\n",
       "      <th>4</th>\n",
       "      <td>ACURA TLX</td>\n",
       "      <td>2.4</td>\n",
       "      <td>4.0</td>\n",
       "      <td>AMS-8</td>\n",
       "      <td>2WD</td>\n",
       "      <td>Gasoline</td>\n",
       "      <td>CA</td>\n",
       "      <td>L3ULEV125</td>\n",
       "      <td>California LEV-III ULEV125</td>\n",
       "      <td>JHNXV02.4WH3</td>\n",
       "      <td>small car</td>\n",
       "      <td>3</td>\n",
       "      <td>23</td>\n",
       "      <td>33</td>\n",
       "      <td>27</td>\n",
       "      <td>6</td>\n",
       "      <td>No</td>\n",
       "      <td>330</td>\n",
       "    </tr>\n",
       "  </tbody>\n",
       "</table>\n",
       "</div>"
      ],
      "text/plain": [
       "       Model  Displ  Cyl       Trans Drive      Fuel Cert Region       Stnd  \\\n",
       "0  ACURA RDX    3.5  6.0  SemiAuto-6   2WD  Gasoline          FA     T3B125   \n",
       "1  ACURA RDX    3.5  6.0  SemiAuto-6   2WD  Gasoline          CA         U2   \n",
       "2  ACURA RDX    3.5  6.0  SemiAuto-6   4WD  Gasoline          FA     T3B125   \n",
       "3  ACURA RDX    3.5  6.0  SemiAuto-6   4WD  Gasoline          CA         U2   \n",
       "4  ACURA TLX    2.4  4.0       AMS-8   2WD  Gasoline          CA  L3ULEV125   \n",
       "\n",
       "             Stnd Description  Underhood ID  Veh Class  Air Pollution Score  \\\n",
       "0      Federal Tier 3 Bin 125  JHNXT03.5GV3  small SUV                    3   \n",
       "1      California LEV-II ULEV  JHNXT03.5GV3  small SUV                    3   \n",
       "2      Federal Tier 3 Bin 125  JHNXT03.5GV3  small SUV                    3   \n",
       "3      California LEV-II ULEV  JHNXT03.5GV3  small SUV                    3   \n",
       "4  California LEV-III ULEV125  JHNXV02.4WH3  small car                    3   \n",
       "\n",
       "  City MPG Hwy MPG Cmb MPG  Greenhouse Gas Score SmartWay Comb CO2  \n",
       "0       20      28      23                     5       No      386  \n",
       "1       20      28      23                     5       No      386  \n",
       "2       19      27      22                     4       No      402  \n",
       "3       19      27      22                     4       No      402  \n",
       "4       23      33      27                     6       No      330  "
      ]
     },
     "execution_count": 7,
     "metadata": {},
     "output_type": "execute_result"
    }
   ],
   "source": [
    "df_18.head()"
   ]
  },
  {
   "cell_type": "markdown",
   "metadata": {},
   "source": [
    "## Data Cleaning\n",
    "\n",
    "#### 1. Removing duplicates\n",
    "#### 2. Removing NA data\n",
    "#### 3. Fixing Data Types\n",
    "#### 4. Remove unnnecessary features\n",
    "#### 5.  Change column names\n",
    "#### 6. Extract data from only CA region. For consistency, only compare cars certified by California standards.\n",
    "\n"
   ]
  },
  {
   "cell_type": "code",
   "execution_count": 8,
   "metadata": {},
   "outputs": [
    {
     "data": {
      "text/plain": [
       "25"
      ]
     },
     "execution_count": 8,
     "metadata": {},
     "output_type": "execute_result"
    }
   ],
   "source": [
    "# duplicates in 2008 dataset \n",
    "df_08.duplicated().sum()"
   ]
  },
  {
   "cell_type": "code",
   "execution_count": 9,
   "metadata": {},
   "outputs": [
    {
     "data": {
      "text/plain": [
       "Model                     0\n",
       "Displ                     0\n",
       "Cyl                     199\n",
       "Trans                   199\n",
       "Drive                    93\n",
       "Fuel                      0\n",
       "Sales Area                0\n",
       "Stnd                      0\n",
       "Underhood ID              0\n",
       "Veh Class                 0\n",
       "Air Pollution Score       0\n",
       "FE Calc Appr            199\n",
       "City MPG                199\n",
       "Hwy MPG                 199\n",
       "Cmb MPG                 199\n",
       "Unadj Cmb MPG           199\n",
       "Greenhouse Gas Score    199\n",
       "SmartWay                  0\n",
       "dtype: int64"
      ]
     },
     "execution_count": 9,
     "metadata": {},
     "output_type": "execute_result"
    }
   ],
   "source": [
    "# null value of 2008 dataset \n",
    "df_08.isnull().sum()"
   ]
  },
  {
   "cell_type": "code",
   "execution_count": 10,
   "metadata": {},
   "outputs": [
    {
     "data": {
      "text/plain": [
       "Model                    object\n",
       "Displ                   float64\n",
       "Cyl                      object\n",
       "Trans                    object\n",
       "Drive                    object\n",
       "Fuel                     object\n",
       "Sales Area               object\n",
       "Stnd                     object\n",
       "Underhood ID             object\n",
       "Veh Class                object\n",
       "Air Pollution Score      object\n",
       "FE Calc Appr             object\n",
       "City MPG                 object\n",
       "Hwy MPG                  object\n",
       "Cmb MPG                  object\n",
       "Unadj Cmb MPG           float64\n",
       "Greenhouse Gas Score     object\n",
       "SmartWay                 object\n",
       "dtype: object"
      ]
     },
     "execution_count": 10,
     "metadata": {},
     "output_type": "execute_result"
    }
   ],
   "source": [
    "# data type of 2008 dataset \n",
    "df_08.dtypes"
   ]
  },
  {
   "cell_type": "code",
   "execution_count": 11,
   "metadata": {},
   "outputs": [
    {
     "data": {
      "text/plain": [
       "Model                   436\n",
       "Displ                    47\n",
       "Cyl                       8\n",
       "Trans                    14\n",
       "Drive                     2\n",
       "Fuel                      5\n",
       "Sales Area                3\n",
       "Stnd                     12\n",
       "Underhood ID            343\n",
       "Veh Class                 9\n",
       "Air Pollution Score      13\n",
       "FE Calc Appr              2\n",
       "City MPG                 39\n",
       "Hwy MPG                  43\n",
       "Cmb MPG                  38\n",
       "Unadj Cmb MPG           721\n",
       "Greenhouse Gas Score     20\n",
       "SmartWay                  2\n",
       "dtype: int64"
      ]
     },
     "execution_count": 11,
     "metadata": {},
     "output_type": "execute_result"
    }
   ],
   "source": [
    "# check unique numbers for each column in 2008 dataset\n",
    "df_08.nunique()"
   ]
  },
  {
   "cell_type": "code",
   "execution_count": 12,
   "metadata": {},
   "outputs": [
    {
     "data": {
      "text/plain": [
       "0"
      ]
     },
     "execution_count": 12,
     "metadata": {},
     "output_type": "execute_result"
    }
   ],
   "source": [
    "# check duplicates in 2018 dataset\n",
    "df_18.duplicated().sum()"
   ]
  },
  {
   "cell_type": "code",
   "execution_count": 13,
   "metadata": {},
   "outputs": [
    {
     "data": {
      "text/plain": [
       "Model                   0\n",
       "Displ                   2\n",
       "Cyl                     2\n",
       "Trans                   0\n",
       "Drive                   0\n",
       "Fuel                    0\n",
       "Cert Region             0\n",
       "Stnd                    0\n",
       "Stnd Description        0\n",
       "Underhood ID            0\n",
       "Veh Class               0\n",
       "Air Pollution Score     0\n",
       "City MPG                0\n",
       "Hwy MPG                 0\n",
       "Cmb MPG                 0\n",
       "Greenhouse Gas Score    0\n",
       "SmartWay                0\n",
       "Comb CO2                0\n",
       "dtype: int64"
      ]
     },
     "execution_count": 13,
     "metadata": {},
     "output_type": "execute_result"
    }
   ],
   "source": [
    "# check null values in 2018 dataset\n",
    "df_18.isnull().sum()"
   ]
  },
  {
   "cell_type": "code",
   "execution_count": 14,
   "metadata": {},
   "outputs": [
    {
     "data": {
      "text/plain": [
       "Model                    object\n",
       "Displ                   float64\n",
       "Cyl                     float64\n",
       "Trans                    object\n",
       "Drive                    object\n",
       "Fuel                     object\n",
       "Cert Region              object\n",
       "Stnd                     object\n",
       "Stnd Description         object\n",
       "Underhood ID             object\n",
       "Veh Class                object\n",
       "Air Pollution Score       int64\n",
       "City MPG                 object\n",
       "Hwy MPG                  object\n",
       "Cmb MPG                  object\n",
       "Greenhouse Gas Score      int64\n",
       "SmartWay                 object\n",
       "Comb CO2                 object\n",
       "dtype: object"
      ]
     },
     "execution_count": 14,
     "metadata": {},
     "output_type": "execute_result"
    }
   ],
   "source": [
    "# data types of 2018 dataset\n",
    "df_18.dtypes"
   ]
  },
  {
   "cell_type": "code",
   "execution_count": 15,
   "metadata": {},
   "outputs": [
    {
     "data": {
      "text/plain": [
       "Model                   367\n",
       "Displ                    36\n",
       "Cyl                       7\n",
       "Trans                    26\n",
       "Drive                     2\n",
       "Fuel                      5\n",
       "Cert Region               2\n",
       "Stnd                     19\n",
       "Stnd Description         19\n",
       "Underhood ID            230\n",
       "Veh Class                 9\n",
       "Air Pollution Score       6\n",
       "City MPG                 58\n",
       "Hwy MPG                  62\n",
       "Cmb MPG                  57\n",
       "Greenhouse Gas Score     10\n",
       "SmartWay                  3\n",
       "Comb CO2                299\n",
       "dtype: int64"
      ]
     },
     "execution_count": 15,
     "metadata": {},
     "output_type": "execute_result"
    }
   ],
   "source": [
    "# check unique numbers for each column in 2018 dataset\n",
    "df_18.nunique()"
   ]
  },
  {
   "cell_type": "code",
   "execution_count": 16,
   "metadata": {},
   "outputs": [
    {
     "data": {
      "text/html": [
       "<div>\n",
       "<style scoped>\n",
       "    .dataframe tbody tr th:only-of-type {\n",
       "        vertical-align: middle;\n",
       "    }\n",
       "\n",
       "    .dataframe tbody tr th {\n",
       "        vertical-align: top;\n",
       "    }\n",
       "\n",
       "    .dataframe thead th {\n",
       "        text-align: right;\n",
       "    }\n",
       "</style>\n",
       "<table border=\"1\" class=\"dataframe\">\n",
       "  <thead>\n",
       "    <tr style=\"text-align: right;\">\n",
       "      <th></th>\n",
       "      <th>Model</th>\n",
       "      <th>Displ</th>\n",
       "      <th>Cyl</th>\n",
       "      <th>Trans</th>\n",
       "      <th>Drive</th>\n",
       "      <th>Fuel</th>\n",
       "      <th>Sales Area</th>\n",
       "      <th>Veh Class</th>\n",
       "      <th>Air Pollution Score</th>\n",
       "      <th>City MPG</th>\n",
       "      <th>Hwy MPG</th>\n",
       "      <th>Cmb MPG</th>\n",
       "      <th>Greenhouse Gas Score</th>\n",
       "      <th>SmartWay</th>\n",
       "    </tr>\n",
       "  </thead>\n",
       "  <tbody>\n",
       "    <tr>\n",
       "      <th>0</th>\n",
       "      <td>ACURA MDX</td>\n",
       "      <td>3.7</td>\n",
       "      <td>(6 cyl)</td>\n",
       "      <td>Auto-S5</td>\n",
       "      <td>4WD</td>\n",
       "      <td>Gasoline</td>\n",
       "      <td>CA</td>\n",
       "      <td>SUV</td>\n",
       "      <td>7</td>\n",
       "      <td>15</td>\n",
       "      <td>20</td>\n",
       "      <td>17</td>\n",
       "      <td>4</td>\n",
       "      <td>no</td>\n",
       "    </tr>\n",
       "  </tbody>\n",
       "</table>\n",
       "</div>"
      ],
      "text/plain": [
       "       Model  Displ      Cyl    Trans Drive      Fuel Sales Area Veh Class  \\\n",
       "0  ACURA MDX    3.7  (6 cyl)  Auto-S5   4WD  Gasoline         CA       SUV   \n",
       "\n",
       "  Air Pollution Score City MPG Hwy MPG Cmb MPG Greenhouse Gas Score SmartWay  \n",
       "0                   7       15      20      17                    4       no  "
      ]
     },
     "execution_count": 16,
     "metadata": {},
     "output_type": "execute_result"
    }
   ],
   "source": [
    "# drop columns from 2008 dataset\n",
    "df_08.drop(['Stnd', 'Underhood ID', 'FE Calc Appr', 'Unadj Cmb MPG'], axis=1, inplace=True)\n",
    "\n",
    "# confirm changes\n",
    "df_08.head(1)"
   ]
  },
  {
   "cell_type": "code",
   "execution_count": 17,
   "metadata": {},
   "outputs": [
    {
     "data": {
      "text/html": [
       "<div>\n",
       "<style scoped>\n",
       "    .dataframe tbody tr th:only-of-type {\n",
       "        vertical-align: middle;\n",
       "    }\n",
       "\n",
       "    .dataframe tbody tr th {\n",
       "        vertical-align: top;\n",
       "    }\n",
       "\n",
       "    .dataframe thead th {\n",
       "        text-align: right;\n",
       "    }\n",
       "</style>\n",
       "<table border=\"1\" class=\"dataframe\">\n",
       "  <thead>\n",
       "    <tr style=\"text-align: right;\">\n",
       "      <th></th>\n",
       "      <th>Model</th>\n",
       "      <th>Displ</th>\n",
       "      <th>Cyl</th>\n",
       "      <th>Trans</th>\n",
       "      <th>Drive</th>\n",
       "      <th>Fuel</th>\n",
       "      <th>Sales Area</th>\n",
       "      <th>Veh Class</th>\n",
       "      <th>Air Pollution Score</th>\n",
       "      <th>City MPG</th>\n",
       "      <th>Hwy MPG</th>\n",
       "      <th>Cmb MPG</th>\n",
       "      <th>Greenhouse Gas Score</th>\n",
       "      <th>SmartWay</th>\n",
       "    </tr>\n",
       "  </thead>\n",
       "  <tbody>\n",
       "    <tr>\n",
       "      <th>0</th>\n",
       "      <td>ACURA MDX</td>\n",
       "      <td>3.7</td>\n",
       "      <td>(6 cyl)</td>\n",
       "      <td>Auto-S5</td>\n",
       "      <td>4WD</td>\n",
       "      <td>Gasoline</td>\n",
       "      <td>CA</td>\n",
       "      <td>SUV</td>\n",
       "      <td>7</td>\n",
       "      <td>15</td>\n",
       "      <td>20</td>\n",
       "      <td>17</td>\n",
       "      <td>4</td>\n",
       "      <td>no</td>\n",
       "    </tr>\n",
       "  </tbody>\n",
       "</table>\n",
       "</div>"
      ],
      "text/plain": [
       "       Model  Displ      Cyl    Trans Drive      Fuel Sales Area Veh Class  \\\n",
       "0  ACURA MDX    3.7  (6 cyl)  Auto-S5   4WD  Gasoline         CA       SUV   \n",
       "\n",
       "  Air Pollution Score City MPG Hwy MPG Cmb MPG Greenhouse Gas Score SmartWay  \n",
       "0                   7       15      20      17                    4       no  "
      ]
     },
     "execution_count": 17,
     "metadata": {},
     "output_type": "execute_result"
    }
   ],
   "source": [
    "# drop columns from 2018 dataset\n",
    "df_18.drop(['Stnd', 'Stnd Description', 'Underhood ID', 'Comb CO2'], axis=1, inplace=True)\n",
    "\n",
    "# confirm changes\n",
    "df_08.head(1)"
   ]
  },
  {
   "cell_type": "code",
   "execution_count": 18,
   "metadata": {},
   "outputs": [
    {
     "data": {
      "text/html": [
       "<div>\n",
       "<style scoped>\n",
       "    .dataframe tbody tr th:only-of-type {\n",
       "        vertical-align: middle;\n",
       "    }\n",
       "\n",
       "    .dataframe tbody tr th {\n",
       "        vertical-align: top;\n",
       "    }\n",
       "\n",
       "    .dataframe thead th {\n",
       "        text-align: right;\n",
       "    }\n",
       "</style>\n",
       "<table border=\"1\" class=\"dataframe\">\n",
       "  <thead>\n",
       "    <tr style=\"text-align: right;\">\n",
       "      <th></th>\n",
       "      <th>Model</th>\n",
       "      <th>Displ</th>\n",
       "      <th>Cyl</th>\n",
       "      <th>Trans</th>\n",
       "      <th>Drive</th>\n",
       "      <th>Fuel</th>\n",
       "      <th>Cert Region</th>\n",
       "      <th>Veh Class</th>\n",
       "      <th>Air Pollution Score</th>\n",
       "      <th>City MPG</th>\n",
       "      <th>Hwy MPG</th>\n",
       "      <th>Cmb MPG</th>\n",
       "      <th>Greenhouse Gas Score</th>\n",
       "      <th>SmartWay</th>\n",
       "    </tr>\n",
       "  </thead>\n",
       "  <tbody>\n",
       "    <tr>\n",
       "      <th>0</th>\n",
       "      <td>ACURA MDX</td>\n",
       "      <td>3.7</td>\n",
       "      <td>(6 cyl)</td>\n",
       "      <td>Auto-S5</td>\n",
       "      <td>4WD</td>\n",
       "      <td>Gasoline</td>\n",
       "      <td>CA</td>\n",
       "      <td>SUV</td>\n",
       "      <td>7</td>\n",
       "      <td>15</td>\n",
       "      <td>20</td>\n",
       "      <td>17</td>\n",
       "      <td>4</td>\n",
       "      <td>no</td>\n",
       "    </tr>\n",
       "  </tbody>\n",
       "</table>\n",
       "</div>"
      ],
      "text/plain": [
       "       Model  Displ      Cyl    Trans Drive      Fuel Cert Region Veh Class  \\\n",
       "0  ACURA MDX    3.7  (6 cyl)  Auto-S5   4WD  Gasoline          CA       SUV   \n",
       "\n",
       "  Air Pollution Score City MPG Hwy MPG Cmb MPG Greenhouse Gas Score SmartWay  \n",
       "0                   7       15      20      17                    4       no  "
      ]
     },
     "execution_count": 18,
     "metadata": {},
     "output_type": "execute_result"
    }
   ],
   "source": [
    "# rename Sales Area to Cert Region\n",
    "df_08.rename(columns = {\"Sales Area\":\"Cert Region\"}, inplace=True)\n",
    "# confirm changes\n",
    "df_08.head(1)"
   ]
  },
  {
   "cell_type": "code",
   "execution_count": 19,
   "metadata": {},
   "outputs": [
    {
     "data": {
      "text/html": [
       "<div>\n",
       "<style scoped>\n",
       "    .dataframe tbody tr th:only-of-type {\n",
       "        vertical-align: middle;\n",
       "    }\n",
       "\n",
       "    .dataframe tbody tr th {\n",
       "        vertical-align: top;\n",
       "    }\n",
       "\n",
       "    .dataframe thead th {\n",
       "        text-align: right;\n",
       "    }\n",
       "</style>\n",
       "<table border=\"1\" class=\"dataframe\">\n",
       "  <thead>\n",
       "    <tr style=\"text-align: right;\">\n",
       "      <th></th>\n",
       "      <th>model</th>\n",
       "      <th>displ</th>\n",
       "      <th>cyl</th>\n",
       "      <th>trans</th>\n",
       "      <th>drive</th>\n",
       "      <th>fuel</th>\n",
       "      <th>cert_region</th>\n",
       "      <th>veh_class</th>\n",
       "      <th>air_pollution_score</th>\n",
       "      <th>city_mpg</th>\n",
       "      <th>hwy_mpg</th>\n",
       "      <th>cmb_mpg</th>\n",
       "      <th>greenhouse_gas_score</th>\n",
       "      <th>smartway</th>\n",
       "    </tr>\n",
       "  </thead>\n",
       "  <tbody>\n",
       "    <tr>\n",
       "      <th>0</th>\n",
       "      <td>ACURA MDX</td>\n",
       "      <td>3.7</td>\n",
       "      <td>(6 cyl)</td>\n",
       "      <td>Auto-S5</td>\n",
       "      <td>4WD</td>\n",
       "      <td>Gasoline</td>\n",
       "      <td>CA</td>\n",
       "      <td>SUV</td>\n",
       "      <td>7</td>\n",
       "      <td>15</td>\n",
       "      <td>20</td>\n",
       "      <td>17</td>\n",
       "      <td>4</td>\n",
       "      <td>no</td>\n",
       "    </tr>\n",
       "  </tbody>\n",
       "</table>\n",
       "</div>"
      ],
      "text/plain": [
       "       model  displ      cyl    trans drive      fuel cert_region veh_class  \\\n",
       "0  ACURA MDX    3.7  (6 cyl)  Auto-S5   4WD  Gasoline          CA       SUV   \n",
       "\n",
       "  air_pollution_score city_mpg hwy_mpg cmb_mpg greenhouse_gas_score smartway  \n",
       "0                   7       15      20      17                    4       no  "
      ]
     },
     "execution_count": 19,
     "metadata": {},
     "output_type": "execute_result"
    }
   ],
   "source": [
    "# replace spaces with underscores and lowercase labels for 2008 dataset\n",
    "df_08.rename(columns=lambda x: x.strip().lower().replace(\" \",\"_\"), inplace=True)\n",
    "\n",
    "# confirm changes\n",
    "df_08.head(1)"
   ]
  },
  {
   "cell_type": "code",
   "execution_count": 20,
   "metadata": {},
   "outputs": [
    {
     "data": {
      "text/html": [
       "<div>\n",
       "<style scoped>\n",
       "    .dataframe tbody tr th:only-of-type {\n",
       "        vertical-align: middle;\n",
       "    }\n",
       "\n",
       "    .dataframe tbody tr th {\n",
       "        vertical-align: top;\n",
       "    }\n",
       "\n",
       "    .dataframe thead th {\n",
       "        text-align: right;\n",
       "    }\n",
       "</style>\n",
       "<table border=\"1\" class=\"dataframe\">\n",
       "  <thead>\n",
       "    <tr style=\"text-align: right;\">\n",
       "      <th></th>\n",
       "      <th>model</th>\n",
       "      <th>displ</th>\n",
       "      <th>cyl</th>\n",
       "      <th>trans</th>\n",
       "      <th>drive</th>\n",
       "      <th>fuel</th>\n",
       "      <th>cert_region</th>\n",
       "      <th>veh_class</th>\n",
       "      <th>air_pollution_score</th>\n",
       "      <th>city_mpg</th>\n",
       "      <th>hwy_mpg</th>\n",
       "      <th>cmb_mpg</th>\n",
       "      <th>greenhouse_gas_score</th>\n",
       "      <th>smartway</th>\n",
       "    </tr>\n",
       "  </thead>\n",
       "  <tbody>\n",
       "    <tr>\n",
       "      <th>0</th>\n",
       "      <td>ACURA RDX</td>\n",
       "      <td>3.5</td>\n",
       "      <td>6.0</td>\n",
       "      <td>SemiAuto-6</td>\n",
       "      <td>2WD</td>\n",
       "      <td>Gasoline</td>\n",
       "      <td>FA</td>\n",
       "      <td>small SUV</td>\n",
       "      <td>3</td>\n",
       "      <td>20</td>\n",
       "      <td>28</td>\n",
       "      <td>23</td>\n",
       "      <td>5</td>\n",
       "      <td>No</td>\n",
       "    </tr>\n",
       "  </tbody>\n",
       "</table>\n",
       "</div>"
      ],
      "text/plain": [
       "       model  displ  cyl       trans drive      fuel cert_region  veh_class  \\\n",
       "0  ACURA RDX    3.5  6.0  SemiAuto-6   2WD  Gasoline          FA  small SUV   \n",
       "\n",
       "   air_pollution_score city_mpg hwy_mpg cmb_mpg  greenhouse_gas_score smartway  \n",
       "0                    3       20      28      23                     5       No  "
      ]
     },
     "execution_count": 20,
     "metadata": {},
     "output_type": "execute_result"
    }
   ],
   "source": [
    "df_18.rename(columns = lambda x: x.strip().lower().replace(\" \",\"_\"),inplace=True)\n",
    "\n",
    "# confirm changes\n",
    "df_18.head(1)"
   ]
  },
  {
   "cell_type": "code",
   "execution_count": 21,
   "metadata": {},
   "outputs": [
    {
     "data": {
      "text/plain": [
       "array([ True,  True,  True,  True,  True,  True,  True,  True,  True,\n",
       "        True,  True,  True,  True,  True])"
      ]
     },
     "execution_count": 21,
     "metadata": {},
     "output_type": "execute_result"
    }
   ],
   "source": [
    "# confirm column labels for 2008 and 2018 datasets are identical\n",
    "df_08.columns == df_18.columns"
   ]
  },
  {
   "cell_type": "code",
   "execution_count": 22,
   "metadata": {},
   "outputs": [
    {
     "data": {
      "text/plain": [
       "True"
      ]
     },
     "execution_count": 22,
     "metadata": {},
     "output_type": "execute_result"
    }
   ],
   "source": [
    "# make sure they're all identical like this\n",
    "(df_08.columns == df_18.columns).all()"
   ]
  },
  {
   "cell_type": "code",
   "execution_count": 23,
   "metadata": {},
   "outputs": [],
   "source": [
    "# save new datasets for next section\n",
    "df_08.to_csv('data_08_v1.csv', index=False)\n",
    "df_18.to_csv('data_18_v1.csv', index=False)"
   ]
  },
  {
   "cell_type": "code",
   "execution_count": 24,
   "metadata": {},
   "outputs": [],
   "source": [
    "# filter datasets for rows following California standards\n",
    "df_08 = df_08.query('cert_region==\"CA\"')\n",
    "df_18 = df_18.query('cert_region==\"CA\"')"
   ]
  },
  {
   "cell_type": "markdown",
   "metadata": {},
   "source": [
    "#### Filter both datasets using query to select only rows where cert_region is CA. Then, drop the cert_region columns, since it will no longer provide any useful information (we'll know every value is 'CA')."
   ]
  },
  {
   "cell_type": "code",
   "execution_count": 25,
   "metadata": {},
   "outputs": [
    {
     "data": {
      "text/plain": [
       "(0    CA\n",
       " 2    CA\n",
       " 4    CA\n",
       " 6    CA\n",
       " 7    CA\n",
       " Name: cert_region, dtype: object,\n",
       " 1    CA\n",
       " 3    CA\n",
       " 4    CA\n",
       " 6    CA\n",
       " 8    CA\n",
       " Name: cert_region, dtype: object)"
      ]
     },
     "execution_count": 25,
     "metadata": {},
     "output_type": "execute_result"
    }
   ],
   "source": [
    "df_08['cert_region'].head(),  df_18['cert_region'].head()"
   ]
  },
  {
   "cell_type": "code",
   "execution_count": 26,
   "metadata": {},
   "outputs": [
    {
     "data": {
      "text/plain": [
       "(array(['CA'], dtype=object), array(['CA'], dtype=object))"
      ]
     },
     "execution_count": 26,
     "metadata": {},
     "output_type": "execute_result"
    }
   ],
   "source": [
    "# confirm only certification region is California\n",
    "df_08['cert_region'].unique() , df_18['cert_region'].unique()"
   ]
  },
  {
   "cell_type": "code",
   "execution_count": 27,
   "metadata": {},
   "outputs": [
    {
     "data": {
      "text/html": [
       "<div>\n",
       "<style scoped>\n",
       "    .dataframe tbody tr th:only-of-type {\n",
       "        vertical-align: middle;\n",
       "    }\n",
       "\n",
       "    .dataframe tbody tr th {\n",
       "        vertical-align: top;\n",
       "    }\n",
       "\n",
       "    .dataframe thead th {\n",
       "        text-align: right;\n",
       "    }\n",
       "</style>\n",
       "<table border=\"1\" class=\"dataframe\">\n",
       "  <thead>\n",
       "    <tr style=\"text-align: right;\">\n",
       "      <th></th>\n",
       "      <th>model</th>\n",
       "      <th>displ</th>\n",
       "      <th>cyl</th>\n",
       "      <th>trans</th>\n",
       "      <th>drive</th>\n",
       "      <th>fuel</th>\n",
       "      <th>veh_class</th>\n",
       "      <th>air_pollution_score</th>\n",
       "      <th>city_mpg</th>\n",
       "      <th>hwy_mpg</th>\n",
       "      <th>cmb_mpg</th>\n",
       "      <th>greenhouse_gas_score</th>\n",
       "      <th>smartway</th>\n",
       "    </tr>\n",
       "  </thead>\n",
       "  <tbody>\n",
       "    <tr>\n",
       "      <th>0</th>\n",
       "      <td>ACURA MDX</td>\n",
       "      <td>3.7</td>\n",
       "      <td>(6 cyl)</td>\n",
       "      <td>Auto-S5</td>\n",
       "      <td>4WD</td>\n",
       "      <td>Gasoline</td>\n",
       "      <td>SUV</td>\n",
       "      <td>7</td>\n",
       "      <td>15</td>\n",
       "      <td>20</td>\n",
       "      <td>17</td>\n",
       "      <td>4</td>\n",
       "      <td>no</td>\n",
       "    </tr>\n",
       "    <tr>\n",
       "      <th>2</th>\n",
       "      <td>ACURA RDX</td>\n",
       "      <td>2.3</td>\n",
       "      <td>(4 cyl)</td>\n",
       "      <td>Auto-S5</td>\n",
       "      <td>4WD</td>\n",
       "      <td>Gasoline</td>\n",
       "      <td>SUV</td>\n",
       "      <td>7</td>\n",
       "      <td>17</td>\n",
       "      <td>22</td>\n",
       "      <td>19</td>\n",
       "      <td>5</td>\n",
       "      <td>no</td>\n",
       "    </tr>\n",
       "    <tr>\n",
       "      <th>4</th>\n",
       "      <td>ACURA RL</td>\n",
       "      <td>3.5</td>\n",
       "      <td>(6 cyl)</td>\n",
       "      <td>Auto-S5</td>\n",
       "      <td>4WD</td>\n",
       "      <td>Gasoline</td>\n",
       "      <td>midsize car</td>\n",
       "      <td>7</td>\n",
       "      <td>16</td>\n",
       "      <td>24</td>\n",
       "      <td>19</td>\n",
       "      <td>5</td>\n",
       "      <td>no</td>\n",
       "    </tr>\n",
       "    <tr>\n",
       "      <th>6</th>\n",
       "      <td>ACURA TL</td>\n",
       "      <td>3.2</td>\n",
       "      <td>(6 cyl)</td>\n",
       "      <td>Auto-S5</td>\n",
       "      <td>2WD</td>\n",
       "      <td>Gasoline</td>\n",
       "      <td>midsize car</td>\n",
       "      <td>7</td>\n",
       "      <td>18</td>\n",
       "      <td>26</td>\n",
       "      <td>21</td>\n",
       "      <td>6</td>\n",
       "      <td>yes</td>\n",
       "    </tr>\n",
       "    <tr>\n",
       "      <th>7</th>\n",
       "      <td>ACURA TL</td>\n",
       "      <td>3.5</td>\n",
       "      <td>(6 cyl)</td>\n",
       "      <td>Auto-S5</td>\n",
       "      <td>2WD</td>\n",
       "      <td>Gasoline</td>\n",
       "      <td>midsize car</td>\n",
       "      <td>7</td>\n",
       "      <td>17</td>\n",
       "      <td>26</td>\n",
       "      <td>20</td>\n",
       "      <td>6</td>\n",
       "      <td>yes</td>\n",
       "    </tr>\n",
       "  </tbody>\n",
       "</table>\n",
       "</div>"
      ],
      "text/plain": [
       "       model  displ      cyl    trans drive      fuel    veh_class  \\\n",
       "0  ACURA MDX    3.7  (6 cyl)  Auto-S5   4WD  Gasoline          SUV   \n",
       "2  ACURA RDX    2.3  (4 cyl)  Auto-S5   4WD  Gasoline          SUV   \n",
       "4   ACURA RL    3.5  (6 cyl)  Auto-S5   4WD  Gasoline  midsize car   \n",
       "6   ACURA TL    3.2  (6 cyl)  Auto-S5   2WD  Gasoline  midsize car   \n",
       "7   ACURA TL    3.5  (6 cyl)  Auto-S5   2WD  Gasoline  midsize car   \n",
       "\n",
       "  air_pollution_score city_mpg hwy_mpg cmb_mpg greenhouse_gas_score smartway  \n",
       "0                   7       15      20      17                    4       no  \n",
       "2                   7       17      22      19                    5       no  \n",
       "4                   7       16      24      19                    5       no  \n",
       "6                   7       18      26      21                    6      yes  \n",
       "7                   7       17      26      20                    6      yes  "
      ]
     },
     "execution_count": 27,
     "metadata": {},
     "output_type": "execute_result"
    }
   ],
   "source": [
    "# drop certification region columns form both datasets\n",
    "df_08.drop(['cert_region'], axis=1, inplace=True)\n",
    "df_08.head()"
   ]
  },
  {
   "cell_type": "code",
   "execution_count": 28,
   "metadata": {},
   "outputs": [
    {
     "data": {
      "text/html": [
       "<div>\n",
       "<style scoped>\n",
       "    .dataframe tbody tr th:only-of-type {\n",
       "        vertical-align: middle;\n",
       "    }\n",
       "\n",
       "    .dataframe tbody tr th {\n",
       "        vertical-align: top;\n",
       "    }\n",
       "\n",
       "    .dataframe thead th {\n",
       "        text-align: right;\n",
       "    }\n",
       "</style>\n",
       "<table border=\"1\" class=\"dataframe\">\n",
       "  <thead>\n",
       "    <tr style=\"text-align: right;\">\n",
       "      <th></th>\n",
       "      <th>model</th>\n",
       "      <th>displ</th>\n",
       "      <th>cyl</th>\n",
       "      <th>trans</th>\n",
       "      <th>drive</th>\n",
       "      <th>fuel</th>\n",
       "      <th>veh_class</th>\n",
       "      <th>air_pollution_score</th>\n",
       "      <th>city_mpg</th>\n",
       "      <th>hwy_mpg</th>\n",
       "      <th>cmb_mpg</th>\n",
       "      <th>greenhouse_gas_score</th>\n",
       "      <th>smartway</th>\n",
       "    </tr>\n",
       "  </thead>\n",
       "  <tbody>\n",
       "    <tr>\n",
       "      <th>1</th>\n",
       "      <td>ACURA RDX</td>\n",
       "      <td>3.5</td>\n",
       "      <td>6.0</td>\n",
       "      <td>SemiAuto-6</td>\n",
       "      <td>2WD</td>\n",
       "      <td>Gasoline</td>\n",
       "      <td>small SUV</td>\n",
       "      <td>3</td>\n",
       "      <td>20</td>\n",
       "      <td>28</td>\n",
       "      <td>23</td>\n",
       "      <td>5</td>\n",
       "      <td>No</td>\n",
       "    </tr>\n",
       "    <tr>\n",
       "      <th>3</th>\n",
       "      <td>ACURA RDX</td>\n",
       "      <td>3.5</td>\n",
       "      <td>6.0</td>\n",
       "      <td>SemiAuto-6</td>\n",
       "      <td>4WD</td>\n",
       "      <td>Gasoline</td>\n",
       "      <td>small SUV</td>\n",
       "      <td>3</td>\n",
       "      <td>19</td>\n",
       "      <td>27</td>\n",
       "      <td>22</td>\n",
       "      <td>4</td>\n",
       "      <td>No</td>\n",
       "    </tr>\n",
       "    <tr>\n",
       "      <th>4</th>\n",
       "      <td>ACURA TLX</td>\n",
       "      <td>2.4</td>\n",
       "      <td>4.0</td>\n",
       "      <td>AMS-8</td>\n",
       "      <td>2WD</td>\n",
       "      <td>Gasoline</td>\n",
       "      <td>small car</td>\n",
       "      <td>3</td>\n",
       "      <td>23</td>\n",
       "      <td>33</td>\n",
       "      <td>27</td>\n",
       "      <td>6</td>\n",
       "      <td>No</td>\n",
       "    </tr>\n",
       "    <tr>\n",
       "      <th>6</th>\n",
       "      <td>ACURA TLX</td>\n",
       "      <td>3.5</td>\n",
       "      <td>6.0</td>\n",
       "      <td>SemiAuto-9</td>\n",
       "      <td>2WD</td>\n",
       "      <td>Gasoline</td>\n",
       "      <td>small car</td>\n",
       "      <td>3</td>\n",
       "      <td>20</td>\n",
       "      <td>32</td>\n",
       "      <td>24</td>\n",
       "      <td>5</td>\n",
       "      <td>No</td>\n",
       "    </tr>\n",
       "    <tr>\n",
       "      <th>8</th>\n",
       "      <td>ACURA TLX</td>\n",
       "      <td>3.5</td>\n",
       "      <td>6.0</td>\n",
       "      <td>SemiAuto-9</td>\n",
       "      <td>4WD</td>\n",
       "      <td>Gasoline</td>\n",
       "      <td>small car</td>\n",
       "      <td>3</td>\n",
       "      <td>21</td>\n",
       "      <td>30</td>\n",
       "      <td>24</td>\n",
       "      <td>5</td>\n",
       "      <td>No</td>\n",
       "    </tr>\n",
       "  </tbody>\n",
       "</table>\n",
       "</div>"
      ],
      "text/plain": [
       "       model  displ  cyl       trans drive      fuel  veh_class  \\\n",
       "1  ACURA RDX    3.5  6.0  SemiAuto-6   2WD  Gasoline  small SUV   \n",
       "3  ACURA RDX    3.5  6.0  SemiAuto-6   4WD  Gasoline  small SUV   \n",
       "4  ACURA TLX    2.4  4.0       AMS-8   2WD  Gasoline  small car   \n",
       "6  ACURA TLX    3.5  6.0  SemiAuto-9   2WD  Gasoline  small car   \n",
       "8  ACURA TLX    3.5  6.0  SemiAuto-9   4WD  Gasoline  small car   \n",
       "\n",
       "   air_pollution_score city_mpg hwy_mpg cmb_mpg  greenhouse_gas_score smartway  \n",
       "1                    3       20      28      23                     5       No  \n",
       "3                    3       19      27      22                     4       No  \n",
       "4                    3       23      33      27                     6       No  \n",
       "6                    3       20      32      24                     5       No  \n",
       "8                    3       21      30      24                     5       No  "
      ]
     },
     "execution_count": 28,
     "metadata": {},
     "output_type": "execute_result"
    }
   ],
   "source": [
    "df_18.drop(['cert_region'], axis=1, inplace=True)\n",
    "df_18.head()"
   ]
  },
  {
   "cell_type": "code",
   "execution_count": 29,
   "metadata": {},
   "outputs": [],
   "source": [
    "# drop rows with any null values in both datasets\n",
    "df_08.dropna(inplace=True) # here must have inplace=True\n",
    "df_18.dropna(inplace=True)"
   ]
  },
  {
   "cell_type": "code",
   "execution_count": 30,
   "metadata": {},
   "outputs": [
    {
     "data": {
      "text/plain": [
       "(False, False)"
      ]
     },
     "execution_count": 30,
     "metadata": {},
     "output_type": "execute_result"
    }
   ],
   "source": [
    "# checks if any of columns in datasets have null values - should print False\n",
    "df_08.isnull().sum().any()  , df_18.isnull().sum().any()"
   ]
  },
  {
   "cell_type": "code",
   "execution_count": 31,
   "metadata": {},
   "outputs": [
    {
     "data": {
      "text/plain": [
       "(0, 0)"
      ]
     },
     "execution_count": 31,
     "metadata": {},
     "output_type": "execute_result"
    }
   ],
   "source": [
    "df_08.drop_duplicates(inplace=True) # here must have inplace=True\n",
    "df_18.drop_duplicates(inplace=True)\n",
    "\n",
    "df_18.duplicated().sum(), df_08.duplicated().sum()"
   ]
  },
  {
   "cell_type": "code",
   "execution_count": 32,
   "metadata": {},
   "outputs": [],
   "source": [
    "# save progress for the next section\n",
    "df_08.to_csv('data_08_v2.csv', index=False)\n",
    "df_18.to_csv('data_18_v2.csv', index=False)"
   ]
  },
  {
   "cell_type": "code",
   "execution_count": 33,
   "metadata": {},
   "outputs": [
    {
     "data": {
      "text/plain": [
       "(6 cyl)     409\n",
       "(4 cyl)     283\n",
       "(8 cyl)     199\n",
       "(5 cyl)      48\n",
       "(12 cyl)     30\n",
       "(10 cyl)     14\n",
       "(2 cyl)       2\n",
       "(16 cyl)      1\n",
       "Name: cyl, dtype: int64"
      ]
     },
     "execution_count": 33,
     "metadata": {},
     "output_type": "execute_result"
    }
   ],
   "source": [
    "# check value counts for the 2008 cyl column\n",
    "df_08['cyl'].value_counts()"
   ]
  },
  {
   "cell_type": "code",
   "execution_count": 34,
   "metadata": {},
   "outputs": [
    {
     "data": {
      "text/plain": [
       "6     409\n",
       "4     283\n",
       "8     199\n",
       "5      48\n",
       "12     30\n",
       "10     14\n",
       "2       2\n",
       "16      1\n",
       "Name: cyl, dtype: int64"
      ]
     },
     "execution_count": 34,
     "metadata": {},
     "output_type": "execute_result"
    }
   ],
   "source": [
    "# Extract int from strings in the 2008 cyl column\n",
    "df_08['cyl'] = df_08['cyl'].str.extract('(\\d+)').astype(np.int64)\n",
    "df_08['cyl'].value_counts()"
   ]
  },
  {
   "cell_type": "code",
   "execution_count": 35,
   "metadata": {},
   "outputs": [
    {
     "data": {
      "text/plain": [
       "6     409\n",
       "4     283\n",
       "8     199\n",
       "5      48\n",
       "12     30\n",
       "10     14\n",
       "2       2\n",
       "16      1\n",
       "Name: cyl, dtype: int64"
      ]
     },
     "execution_count": 35,
     "metadata": {},
     "output_type": "execute_result"
    }
   ],
   "source": [
    "# convert 2018 cyl column from float to int\n",
    "df_18['cyl'] = df_18['cyl'].astype(int)\n",
    "df_08['cyl'].value_counts()"
   ]
  },
  {
   "cell_type": "code",
   "execution_count": 36,
   "metadata": {},
   "outputs": [],
   "source": [
    "df_08.to_csv('data_08_v3.csv', index=False)\n",
    "df_18.to_csv('data_18_v3.csv', index=False)"
   ]
  },
  {
   "cell_type": "markdown",
   "metadata": {},
   "source": [
    "#### Fix cyl datatype 2008: extract int from string. 2018: convert float to int.\n",
    "#### Fix air_pollution_score datatype 2008: convert string to float. 2018: convert int to float.\n",
    "#### Fix city_mpg, hwy_mpg, cmb_mpg datatypes 2008 and 2018: convert string to float.\n",
    "#### Fix greenhouse_gas_score datatype 2008: convert from float to int."
   ]
  },
  {
   "cell_type": "code",
   "execution_count": 37,
   "metadata": {},
   "outputs": [
    {
     "data": {
      "text/plain": [
       "(model                    object\n",
       " displ                   float64\n",
       " cyl                       int32\n",
       " trans                    object\n",
       " drive                    object\n",
       " fuel                     object\n",
       " veh_class                object\n",
       " air_pollution_score       int64\n",
       " city_mpg                 object\n",
       " hwy_mpg                  object\n",
       " cmb_mpg                  object\n",
       " greenhouse_gas_score      int64\n",
       " smartway                 object\n",
       " dtype: object,\n",
       " model                    object\n",
       " displ                   float64\n",
       " cyl                       int32\n",
       " trans                    object\n",
       " drive                    object\n",
       " fuel                     object\n",
       " veh_class                object\n",
       " air_pollution_score       int64\n",
       " city_mpg                 object\n",
       " hwy_mpg                  object\n",
       " cmb_mpg                  object\n",
       " greenhouse_gas_score      int64\n",
       " smartway                 object\n",
       " dtype: object)"
      ]
     },
     "execution_count": 37,
     "metadata": {},
     "output_type": "execute_result"
    }
   ],
   "source": [
    "# data types of 2018 dataset\n",
    "df_18.dtypes, df_18.dtypes"
   ]
  },
  {
   "cell_type": "code",
   "execution_count": 38,
   "metadata": {},
   "outputs": [
    {
     "data": {
      "text/plain": [
       "model                   MERCEDES-BENZ C300\n",
       "displ                                    3\n",
       "cyl                                      6\n",
       "trans                              Auto-L7\n",
       "drive                                  2WD\n",
       "fuel                           ethanol/gas\n",
       "veh_class                        small car\n",
       "air_pollution_score                    6/4\n",
       "city_mpg                             13/18\n",
       "hwy_mpg                              19/25\n",
       "cmb_mpg                              15/21\n",
       "greenhouse_gas_score                   7/6\n",
       "smartway                                no\n",
       "Name: 1550, dtype: object"
      ]
     },
     "execution_count": 38,
     "metadata": {},
     "output_type": "execute_result"
    }
   ],
   "source": [
    "df_08.iloc[582]    # note some fraction formed string would be hard to convert to float directly"
   ]
  },
  {
   "cell_type": "markdown",
   "metadata": {},
   "source": [
    "#### All vehicles with more than one fuel type, or hybrids, like the one above (it uses ethanol AND gas) will have a string that holds two values - one for each. Meaning, we need to make new data points for hybrid vehicles for each configuration."
   ]
  },
  {
   "cell_type": "code",
   "execution_count": 39,
   "metadata": {},
   "outputs": [
    {
     "data": {
      "text/html": [
       "<div>\n",
       "<style scoped>\n",
       "    .dataframe tbody tr th:only-of-type {\n",
       "        vertical-align: middle;\n",
       "    }\n",
       "\n",
       "    .dataframe tbody tr th {\n",
       "        vertical-align: top;\n",
       "    }\n",
       "\n",
       "    .dataframe thead th {\n",
       "        text-align: right;\n",
       "    }\n",
       "</style>\n",
       "<table border=\"1\" class=\"dataframe\">\n",
       "  <thead>\n",
       "    <tr style=\"text-align: right;\">\n",
       "      <th></th>\n",
       "      <th>model</th>\n",
       "      <th>displ</th>\n",
       "      <th>cyl</th>\n",
       "      <th>trans</th>\n",
       "      <th>drive</th>\n",
       "      <th>fuel</th>\n",
       "      <th>veh_class</th>\n",
       "      <th>air_pollution_score</th>\n",
       "      <th>city_mpg</th>\n",
       "      <th>hwy_mpg</th>\n",
       "      <th>cmb_mpg</th>\n",
       "      <th>greenhouse_gas_score</th>\n",
       "      <th>smartway</th>\n",
       "    </tr>\n",
       "  </thead>\n",
       "  <tbody>\n",
       "    <tr>\n",
       "      <th>1550</th>\n",
       "      <td>MERCEDES-BENZ C300</td>\n",
       "      <td>3.0</td>\n",
       "      <td>6</td>\n",
       "      <td>Auto-L7</td>\n",
       "      <td>2WD</td>\n",
       "      <td>ethanol/gas</td>\n",
       "      <td>small car</td>\n",
       "      <td>6/4</td>\n",
       "      <td>13/18</td>\n",
       "      <td>19/25</td>\n",
       "      <td>15/21</td>\n",
       "      <td>7/6</td>\n",
       "      <td>no</td>\n",
       "    </tr>\n",
       "  </tbody>\n",
       "</table>\n",
       "</div>"
      ],
      "text/plain": [
       "                   model  displ  cyl    trans drive         fuel  veh_class  \\\n",
       "1550  MERCEDES-BENZ C300    3.0    6  Auto-L7   2WD  ethanol/gas  small car   \n",
       "\n",
       "     air_pollution_score city_mpg hwy_mpg cmb_mpg greenhouse_gas_score  \\\n",
       "1550                 6/4    13/18   19/25   15/21                  7/6   \n",
       "\n",
       "     smartway  \n",
       "1550       no  "
      ]
     },
     "execution_count": 39,
     "metadata": {},
     "output_type": "execute_result"
    }
   ],
   "source": [
    "# First, let's get all the hybrids in 2008\n",
    "hb_08 = df_08[df_08['fuel'].str.contains('/')]\n",
    "hb_08"
   ]
  },
  {
   "cell_type": "code",
   "execution_count": 40,
   "metadata": {},
   "outputs": [
    {
     "data": {
      "text/html": [
       "<div>\n",
       "<style scoped>\n",
       "    .dataframe tbody tr th:only-of-type {\n",
       "        vertical-align: middle;\n",
       "    }\n",
       "\n",
       "    .dataframe tbody tr th {\n",
       "        vertical-align: top;\n",
       "    }\n",
       "\n",
       "    .dataframe thead th {\n",
       "        text-align: right;\n",
       "    }\n",
       "</style>\n",
       "<table border=\"1\" class=\"dataframe\">\n",
       "  <thead>\n",
       "    <tr style=\"text-align: right;\">\n",
       "      <th></th>\n",
       "      <th>model</th>\n",
       "      <th>displ</th>\n",
       "      <th>cyl</th>\n",
       "      <th>trans</th>\n",
       "      <th>drive</th>\n",
       "      <th>fuel</th>\n",
       "      <th>veh_class</th>\n",
       "      <th>air_pollution_score</th>\n",
       "      <th>city_mpg</th>\n",
       "      <th>hwy_mpg</th>\n",
       "      <th>cmb_mpg</th>\n",
       "      <th>greenhouse_gas_score</th>\n",
       "      <th>smartway</th>\n",
       "    </tr>\n",
       "  </thead>\n",
       "  <tbody>\n",
       "    <tr>\n",
       "      <th>108</th>\n",
       "      <td>BMW 330e</td>\n",
       "      <td>2.0</td>\n",
       "      <td>4</td>\n",
       "      <td>SemiAuto-8</td>\n",
       "      <td>2WD</td>\n",
       "      <td>Gasoline/Electricity</td>\n",
       "      <td>small car</td>\n",
       "      <td>3</td>\n",
       "      <td>28/66</td>\n",
       "      <td>34/78</td>\n",
       "      <td>30/71</td>\n",
       "      <td>10</td>\n",
       "      <td>Yes</td>\n",
       "    </tr>\n",
       "    <tr>\n",
       "      <th>160</th>\n",
       "      <td>BMW 530e</td>\n",
       "      <td>2.0</td>\n",
       "      <td>4</td>\n",
       "      <td>SemiAuto-8</td>\n",
       "      <td>2WD</td>\n",
       "      <td>Gasoline/Electricity</td>\n",
       "      <td>small car</td>\n",
       "      <td>7</td>\n",
       "      <td>27/70</td>\n",
       "      <td>31/75</td>\n",
       "      <td>29/72</td>\n",
       "      <td>10</td>\n",
       "      <td>Elite</td>\n",
       "    </tr>\n",
       "    <tr>\n",
       "      <th>162</th>\n",
       "      <td>BMW 530e</td>\n",
       "      <td>2.0</td>\n",
       "      <td>4</td>\n",
       "      <td>SemiAuto-8</td>\n",
       "      <td>4WD</td>\n",
       "      <td>Gasoline/Electricity</td>\n",
       "      <td>small car</td>\n",
       "      <td>7</td>\n",
       "      <td>27/66</td>\n",
       "      <td>31/68</td>\n",
       "      <td>28/67</td>\n",
       "      <td>10</td>\n",
       "      <td>Elite</td>\n",
       "    </tr>\n",
       "    <tr>\n",
       "      <th>188</th>\n",
       "      <td>BMW 740e</td>\n",
       "      <td>2.0</td>\n",
       "      <td>4</td>\n",
       "      <td>SemiAuto-8</td>\n",
       "      <td>4WD</td>\n",
       "      <td>Gasoline/Electricity</td>\n",
       "      <td>large car</td>\n",
       "      <td>3</td>\n",
       "      <td>25/62</td>\n",
       "      <td>29/68</td>\n",
       "      <td>27/64</td>\n",
       "      <td>9</td>\n",
       "      <td>Yes</td>\n",
       "    </tr>\n",
       "    <tr>\n",
       "      <th>382</th>\n",
       "      <td>CHEVROLET Impala</td>\n",
       "      <td>3.6</td>\n",
       "      <td>6</td>\n",
       "      <td>SemiAuto-6</td>\n",
       "      <td>2WD</td>\n",
       "      <td>Ethanol/Gas</td>\n",
       "      <td>large car</td>\n",
       "      <td>5</td>\n",
       "      <td>14/18</td>\n",
       "      <td>20/28</td>\n",
       "      <td>16/22</td>\n",
       "      <td>4</td>\n",
       "      <td>No</td>\n",
       "    </tr>\n",
       "    <tr>\n",
       "      <th>394</th>\n",
       "      <td>CHEVROLET Silverado 15</td>\n",
       "      <td>4.3</td>\n",
       "      <td>6</td>\n",
       "      <td>Auto-6</td>\n",
       "      <td>2WD</td>\n",
       "      <td>Ethanol/Gas</td>\n",
       "      <td>pickup</td>\n",
       "      <td>5</td>\n",
       "      <td>12/18</td>\n",
       "      <td>16/24</td>\n",
       "      <td>14/20</td>\n",
       "      <td>4</td>\n",
       "      <td>No</td>\n",
       "    </tr>\n",
       "    <tr>\n",
       "      <th>396</th>\n",
       "      <td>CHEVROLET Silverado 15</td>\n",
       "      <td>4.3</td>\n",
       "      <td>6</td>\n",
       "      <td>Auto-6</td>\n",
       "      <td>4WD</td>\n",
       "      <td>Ethanol/Gas</td>\n",
       "      <td>pickup</td>\n",
       "      <td>5</td>\n",
       "      <td>12/17</td>\n",
       "      <td>15/22</td>\n",
       "      <td>13/19</td>\n",
       "      <td>3</td>\n",
       "      <td>No</td>\n",
       "    </tr>\n",
       "    <tr>\n",
       "      <th>398</th>\n",
       "      <td>CHEVROLET Silverado 15</td>\n",
       "      <td>5.3</td>\n",
       "      <td>8</td>\n",
       "      <td>Auto-6</td>\n",
       "      <td>2WD</td>\n",
       "      <td>Ethanol/Gas</td>\n",
       "      <td>pickup</td>\n",
       "      <td>3</td>\n",
       "      <td>12/16</td>\n",
       "      <td>17/23</td>\n",
       "      <td>14/19</td>\n",
       "      <td>3</td>\n",
       "      <td>No</td>\n",
       "    </tr>\n",
       "    <tr>\n",
       "      <th>428</th>\n",
       "      <td>CHEVROLET Suburban 1500</td>\n",
       "      <td>5.3</td>\n",
       "      <td>8</td>\n",
       "      <td>Auto-6</td>\n",
       "      <td>2WD</td>\n",
       "      <td>Ethanol/Gas</td>\n",
       "      <td>standard SUV</td>\n",
       "      <td>3</td>\n",
       "      <td>12/16</td>\n",
       "      <td>17/23</td>\n",
       "      <td>14/19</td>\n",
       "      <td>3</td>\n",
       "      <td>No</td>\n",
       "    </tr>\n",
       "    <tr>\n",
       "      <th>432</th>\n",
       "      <td>CHEVROLET Suburban 1500</td>\n",
       "      <td>5.3</td>\n",
       "      <td>8</td>\n",
       "      <td>Auto-6</td>\n",
       "      <td>4WD</td>\n",
       "      <td>Ethanol/Gas</td>\n",
       "      <td>standard SUV</td>\n",
       "      <td>3</td>\n",
       "      <td>11/16</td>\n",
       "      <td>15/22</td>\n",
       "      <td>12/18</td>\n",
       "      <td>3</td>\n",
       "      <td>No</td>\n",
       "    </tr>\n",
       "    <tr>\n",
       "      <th>436</th>\n",
       "      <td>CHEVROLET Tahoe 1500</td>\n",
       "      <td>5.3</td>\n",
       "      <td>8</td>\n",
       "      <td>Auto-6</td>\n",
       "      <td>2WD</td>\n",
       "      <td>Ethanol/Gas</td>\n",
       "      <td>standard SUV</td>\n",
       "      <td>3</td>\n",
       "      <td>12/16</td>\n",
       "      <td>17/23</td>\n",
       "      <td>14/19</td>\n",
       "      <td>3</td>\n",
       "      <td>No</td>\n",
       "    </tr>\n",
       "    <tr>\n",
       "      <th>440</th>\n",
       "      <td>CHEVROLET Tahoe 1500</td>\n",
       "      <td>5.3</td>\n",
       "      <td>8</td>\n",
       "      <td>Auto-6</td>\n",
       "      <td>4WD</td>\n",
       "      <td>Ethanol/Gas</td>\n",
       "      <td>standard SUV</td>\n",
       "      <td>3</td>\n",
       "      <td>11/16</td>\n",
       "      <td>16/22</td>\n",
       "      <td>13/18</td>\n",
       "      <td>3</td>\n",
       "      <td>No</td>\n",
       "    </tr>\n",
       "    <tr>\n",
       "      <th>454</th>\n",
       "      <td>CHEVROLET Volt</td>\n",
       "      <td>1.5</td>\n",
       "      <td>4</td>\n",
       "      <td>CVT</td>\n",
       "      <td>2WD</td>\n",
       "      <td>Gasoline/Electricity</td>\n",
       "      <td>small car</td>\n",
       "      <td>3</td>\n",
       "      <td>43/113</td>\n",
       "      <td>42/99</td>\n",
       "      <td>42/106</td>\n",
       "      <td>10</td>\n",
       "      <td>Yes</td>\n",
       "    </tr>\n",
       "    <tr>\n",
       "      <th>456</th>\n",
       "      <td>CHEVROLET Volt</td>\n",
       "      <td>1.5</td>\n",
       "      <td>4</td>\n",
       "      <td>CVT</td>\n",
       "      <td>2WD</td>\n",
       "      <td>Gasoline/Electricity</td>\n",
       "      <td>small car</td>\n",
       "      <td>7</td>\n",
       "      <td>43/113</td>\n",
       "      <td>42/99</td>\n",
       "      <td>42/106</td>\n",
       "      <td>10</td>\n",
       "      <td>Elite</td>\n",
       "    </tr>\n",
       "    <tr>\n",
       "      <th>458</th>\n",
       "      <td>CHRYSLER 300</td>\n",
       "      <td>3.6</td>\n",
       "      <td>6</td>\n",
       "      <td>Auto-8</td>\n",
       "      <td>2WD</td>\n",
       "      <td>Ethanol/Gas</td>\n",
       "      <td>large car</td>\n",
       "      <td>3</td>\n",
       "      <td>14/19</td>\n",
       "      <td>22/30</td>\n",
       "      <td>17/23</td>\n",
       "      <td>5</td>\n",
       "      <td>No</td>\n",
       "    </tr>\n",
       "    <tr>\n",
       "      <th>462</th>\n",
       "      <td>CHRYSLER 300</td>\n",
       "      <td>3.6</td>\n",
       "      <td>6</td>\n",
       "      <td>Auto-8</td>\n",
       "      <td>4WD</td>\n",
       "      <td>Ethanol/Gas</td>\n",
       "      <td>large car</td>\n",
       "      <td>3</td>\n",
       "      <td>13/18</td>\n",
       "      <td>20/27</td>\n",
       "      <td>16/21</td>\n",
       "      <td>4</td>\n",
       "      <td>No</td>\n",
       "    </tr>\n",
       "    <tr>\n",
       "      <th>492</th>\n",
       "      <td>DODGE Charger</td>\n",
       "      <td>3.6</td>\n",
       "      <td>6</td>\n",
       "      <td>Auto-8</td>\n",
       "      <td>2WD</td>\n",
       "      <td>Ethanol/Gas</td>\n",
       "      <td>large car</td>\n",
       "      <td>3</td>\n",
       "      <td>14/19</td>\n",
       "      <td>22/30</td>\n",
       "      <td>17/23</td>\n",
       "      <td>5</td>\n",
       "      <td>No</td>\n",
       "    </tr>\n",
       "    <tr>\n",
       "      <th>496</th>\n",
       "      <td>DODGE Charger</td>\n",
       "      <td>3.6</td>\n",
       "      <td>6</td>\n",
       "      <td>Auto-8</td>\n",
       "      <td>4WD</td>\n",
       "      <td>Ethanol/Gas</td>\n",
       "      <td>large car</td>\n",
       "      <td>3</td>\n",
       "      <td>13/18</td>\n",
       "      <td>20/27</td>\n",
       "      <td>16/21</td>\n",
       "      <td>4</td>\n",
       "      <td>No</td>\n",
       "    </tr>\n",
       "    <tr>\n",
       "      <th>605</th>\n",
       "      <td>FORD Fusion Energi Plug-in Hybrid</td>\n",
       "      <td>2.0</td>\n",
       "      <td>4</td>\n",
       "      <td>CVT</td>\n",
       "      <td>2WD</td>\n",
       "      <td>Gasoline/Electricity</td>\n",
       "      <td>midsize car</td>\n",
       "      <td>7</td>\n",
       "      <td>43/102</td>\n",
       "      <td>41/91</td>\n",
       "      <td>42/97</td>\n",
       "      <td>10</td>\n",
       "      <td>Elite</td>\n",
       "    </tr>\n",
       "    <tr>\n",
       "      <th>659</th>\n",
       "      <td>GMC Sierra 15</td>\n",
       "      <td>4.3</td>\n",
       "      <td>6</td>\n",
       "      <td>Auto-6</td>\n",
       "      <td>2WD</td>\n",
       "      <td>Ethanol/Gas</td>\n",
       "      <td>pickup</td>\n",
       "      <td>5</td>\n",
       "      <td>12/18</td>\n",
       "      <td>16/24</td>\n",
       "      <td>14/20</td>\n",
       "      <td>4</td>\n",
       "      <td>No</td>\n",
       "    </tr>\n",
       "    <tr>\n",
       "      <th>661</th>\n",
       "      <td>GMC Sierra 15</td>\n",
       "      <td>4.3</td>\n",
       "      <td>6</td>\n",
       "      <td>Auto-6</td>\n",
       "      <td>4WD</td>\n",
       "      <td>Ethanol/Gas</td>\n",
       "      <td>pickup</td>\n",
       "      <td>5</td>\n",
       "      <td>12/17</td>\n",
       "      <td>15/22</td>\n",
       "      <td>13/19</td>\n",
       "      <td>3</td>\n",
       "      <td>No</td>\n",
       "    </tr>\n",
       "    <tr>\n",
       "      <th>663</th>\n",
       "      <td>GMC Sierra 15</td>\n",
       "      <td>5.3</td>\n",
       "      <td>8</td>\n",
       "      <td>Auto-6</td>\n",
       "      <td>2WD</td>\n",
       "      <td>Ethanol/Gas</td>\n",
       "      <td>pickup</td>\n",
       "      <td>3</td>\n",
       "      <td>12/16</td>\n",
       "      <td>17/23</td>\n",
       "      <td>14/19</td>\n",
       "      <td>3</td>\n",
       "      <td>No</td>\n",
       "    </tr>\n",
       "    <tr>\n",
       "      <th>697</th>\n",
       "      <td>GMC Yukon 1500</td>\n",
       "      <td>5.3</td>\n",
       "      <td>8</td>\n",
       "      <td>Auto-6</td>\n",
       "      <td>2WD</td>\n",
       "      <td>Ethanol/Gas</td>\n",
       "      <td>standard SUV</td>\n",
       "      <td>3</td>\n",
       "      <td>12/16</td>\n",
       "      <td>17/23</td>\n",
       "      <td>14/19</td>\n",
       "      <td>3</td>\n",
       "      <td>No</td>\n",
       "    </tr>\n",
       "    <tr>\n",
       "      <th>701</th>\n",
       "      <td>GMC Yukon 1500</td>\n",
       "      <td>5.3</td>\n",
       "      <td>8</td>\n",
       "      <td>Auto-6</td>\n",
       "      <td>4WD</td>\n",
       "      <td>Ethanol/Gas</td>\n",
       "      <td>standard SUV</td>\n",
       "      <td>3</td>\n",
       "      <td>11/16</td>\n",
       "      <td>16/22</td>\n",
       "      <td>13/18</td>\n",
       "      <td>3</td>\n",
       "      <td>No</td>\n",
       "    </tr>\n",
       "    <tr>\n",
       "      <th>709</th>\n",
       "      <td>GMC Yukon 1500 XL</td>\n",
       "      <td>5.3</td>\n",
       "      <td>8</td>\n",
       "      <td>Auto-6</td>\n",
       "      <td>2WD</td>\n",
       "      <td>Ethanol/Gas</td>\n",
       "      <td>standard SUV</td>\n",
       "      <td>3</td>\n",
       "      <td>12/16</td>\n",
       "      <td>17/23</td>\n",
       "      <td>14/19</td>\n",
       "      <td>3</td>\n",
       "      <td>No</td>\n",
       "    </tr>\n",
       "    <tr>\n",
       "      <th>715</th>\n",
       "      <td>GMC Yukon XL 1500</td>\n",
       "      <td>5.3</td>\n",
       "      <td>8</td>\n",
       "      <td>Auto-6</td>\n",
       "      <td>4WD</td>\n",
       "      <td>Ethanol/Gas</td>\n",
       "      <td>standard SUV</td>\n",
       "      <td>3</td>\n",
       "      <td>11/16</td>\n",
       "      <td>15/22</td>\n",
       "      <td>12/18</td>\n",
       "      <td>3</td>\n",
       "      <td>No</td>\n",
       "    </tr>\n",
       "    <tr>\n",
       "      <th>892</th>\n",
       "      <td>JEEP Cherokee</td>\n",
       "      <td>2.4</td>\n",
       "      <td>4</td>\n",
       "      <td>Auto-9</td>\n",
       "      <td>2WD</td>\n",
       "      <td>Ethanol/Gas</td>\n",
       "      <td>small SUV</td>\n",
       "      <td>3</td>\n",
       "      <td>15/21</td>\n",
       "      <td>22/30</td>\n",
       "      <td>18/25</td>\n",
       "      <td>5</td>\n",
       "      <td>No</td>\n",
       "    </tr>\n",
       "    <tr>\n",
       "      <th>896</th>\n",
       "      <td>JEEP Cherokee</td>\n",
       "      <td>2.4</td>\n",
       "      <td>4</td>\n",
       "      <td>Auto-9</td>\n",
       "      <td>4WD</td>\n",
       "      <td>Ethanol/Gas</td>\n",
       "      <td>small SUV</td>\n",
       "      <td>3</td>\n",
       "      <td>14/21</td>\n",
       "      <td>21/28</td>\n",
       "      <td>17/23</td>\n",
       "      <td>5</td>\n",
       "      <td>No</td>\n",
       "    </tr>\n",
       "    <tr>\n",
       "      <th>933</th>\n",
       "      <td>KARMA Revero</td>\n",
       "      <td>2.0</td>\n",
       "      <td>4</td>\n",
       "      <td>Auto-1</td>\n",
       "      <td>2WD</td>\n",
       "      <td>Gasoline/Electricity</td>\n",
       "      <td>small car</td>\n",
       "      <td>1</td>\n",
       "      <td>20/59</td>\n",
       "      <td>21/61</td>\n",
       "      <td>20/60</td>\n",
       "      <td>10</td>\n",
       "      <td>No</td>\n",
       "    </tr>\n",
       "    <tr>\n",
       "      <th>1162</th>\n",
       "      <td>MERCEDES-BENZ CLA250 4Matic</td>\n",
       "      <td>2.0</td>\n",
       "      <td>4</td>\n",
       "      <td>AutoMan-7</td>\n",
       "      <td>4WD</td>\n",
       "      <td>Ethanol/Gas</td>\n",
       "      <td>small car</td>\n",
       "      <td>5</td>\n",
       "      <td>17/24</td>\n",
       "      <td>24/32</td>\n",
       "      <td>20/27</td>\n",
       "      <td>6</td>\n",
       "      <td>No</td>\n",
       "    </tr>\n",
       "    <tr>\n",
       "      <th>1179</th>\n",
       "      <td>MERCEDES-BENZ GLA250 4Matic</td>\n",
       "      <td>2.0</td>\n",
       "      <td>4</td>\n",
       "      <td>AutoMan-7</td>\n",
       "      <td>4WD</td>\n",
       "      <td>Ethanol/Gas</td>\n",
       "      <td>small SUV</td>\n",
       "      <td>5</td>\n",
       "      <td>17/23</td>\n",
       "      <td>23/31</td>\n",
       "      <td>19/26</td>\n",
       "      <td>5</td>\n",
       "      <td>No</td>\n",
       "    </tr>\n",
       "    <tr>\n",
       "      <th>1192</th>\n",
       "      <td>MERCEDES-BENZ GLE350 4Matic</td>\n",
       "      <td>3.5</td>\n",
       "      <td>6</td>\n",
       "      <td>Auto-7</td>\n",
       "      <td>4WD</td>\n",
       "      <td>Ethanol/Gas</td>\n",
       "      <td>standard SUV</td>\n",
       "      <td>3</td>\n",
       "      <td>13/18</td>\n",
       "      <td>17/22</td>\n",
       "      <td>14/19</td>\n",
       "      <td>3</td>\n",
       "      <td>No</td>\n",
       "    </tr>\n",
       "    <tr>\n",
       "      <th>1256</th>\n",
       "      <td>MINI Cooper SE Countryman All4</td>\n",
       "      <td>1.5</td>\n",
       "      <td>3</td>\n",
       "      <td>SemiAuto-6</td>\n",
       "      <td>4WD</td>\n",
       "      <td>Gasoline/Electricity</td>\n",
       "      <td>midsize car</td>\n",
       "      <td>3</td>\n",
       "      <td>28/63</td>\n",
       "      <td>27/66</td>\n",
       "      <td>27/65</td>\n",
       "      <td>9</td>\n",
       "      <td>Yes</td>\n",
       "    </tr>\n",
       "    <tr>\n",
       "      <th>1507</th>\n",
       "      <td>TOYOTA Sequoia FFV</td>\n",
       "      <td>5.7</td>\n",
       "      <td>8</td>\n",
       "      <td>SemiAuto-6</td>\n",
       "      <td>4WD</td>\n",
       "      <td>Ethanol/Gas</td>\n",
       "      <td>standard SUV</td>\n",
       "      <td>5</td>\n",
       "      <td>9/13</td>\n",
       "      <td>13/17</td>\n",
       "      <td>10/14</td>\n",
       "      <td>1</td>\n",
       "      <td>No</td>\n",
       "    </tr>\n",
       "    <tr>\n",
       "      <th>1517</th>\n",
       "      <td>TOYOTA Tundra FFV</td>\n",
       "      <td>5.7</td>\n",
       "      <td>8</td>\n",
       "      <td>SemiAuto-6</td>\n",
       "      <td>4WD</td>\n",
       "      <td>Ethanol/Gas</td>\n",
       "      <td>pickup</td>\n",
       "      <td>5</td>\n",
       "      <td>9/13</td>\n",
       "      <td>12/17</td>\n",
       "      <td>10/15</td>\n",
       "      <td>2</td>\n",
       "      <td>No</td>\n",
       "    </tr>\n",
       "    <tr>\n",
       "      <th>1577</th>\n",
       "      <td>VOLVO S90</td>\n",
       "      <td>2.0</td>\n",
       "      <td>4</td>\n",
       "      <td>SemiAuto-8</td>\n",
       "      <td>4WD</td>\n",
       "      <td>Gasoline/Electricity</td>\n",
       "      <td>midsize car</td>\n",
       "      <td>7</td>\n",
       "      <td>26/70</td>\n",
       "      <td>33/72</td>\n",
       "      <td>29/71</td>\n",
       "      <td>10</td>\n",
       "      <td>Elite</td>\n",
       "    </tr>\n",
       "    <tr>\n",
       "      <th>1601</th>\n",
       "      <td>VOLVO XC 60</td>\n",
       "      <td>2.0</td>\n",
       "      <td>4</td>\n",
       "      <td>SemiAuto-8</td>\n",
       "      <td>4WD</td>\n",
       "      <td>Gasoline/Electricity</td>\n",
       "      <td>small SUV</td>\n",
       "      <td>7</td>\n",
       "      <td>26/60</td>\n",
       "      <td>28/58</td>\n",
       "      <td>26/59</td>\n",
       "      <td>10</td>\n",
       "      <td>Elite</td>\n",
       "    </tr>\n",
       "    <tr>\n",
       "      <th>1609</th>\n",
       "      <td>VOLVO XC 90</td>\n",
       "      <td>2.0</td>\n",
       "      <td>4</td>\n",
       "      <td>SemiAuto-8</td>\n",
       "      <td>4WD</td>\n",
       "      <td>Gasoline/Electricity</td>\n",
       "      <td>standard SUV</td>\n",
       "      <td>7</td>\n",
       "      <td>26/63</td>\n",
       "      <td>30/61</td>\n",
       "      <td>27/62</td>\n",
       "      <td>10</td>\n",
       "      <td>Elite</td>\n",
       "    </tr>\n",
       "  </tbody>\n",
       "</table>\n",
       "</div>"
      ],
      "text/plain": [
       "                                  model  displ  cyl       trans drive  \\\n",
       "108                            BMW 330e    2.0    4  SemiAuto-8   2WD   \n",
       "160                            BMW 530e    2.0    4  SemiAuto-8   2WD   \n",
       "162                            BMW 530e    2.0    4  SemiAuto-8   4WD   \n",
       "188                            BMW 740e    2.0    4  SemiAuto-8   4WD   \n",
       "382                    CHEVROLET Impala    3.6    6  SemiAuto-6   2WD   \n",
       "394              CHEVROLET Silverado 15    4.3    6      Auto-6   2WD   \n",
       "396              CHEVROLET Silverado 15    4.3    6      Auto-6   4WD   \n",
       "398              CHEVROLET Silverado 15    5.3    8      Auto-6   2WD   \n",
       "428             CHEVROLET Suburban 1500    5.3    8      Auto-6   2WD   \n",
       "432             CHEVROLET Suburban 1500    5.3    8      Auto-6   4WD   \n",
       "436                CHEVROLET Tahoe 1500    5.3    8      Auto-6   2WD   \n",
       "440                CHEVROLET Tahoe 1500    5.3    8      Auto-6   4WD   \n",
       "454                      CHEVROLET Volt    1.5    4         CVT   2WD   \n",
       "456                      CHEVROLET Volt    1.5    4         CVT   2WD   \n",
       "458                        CHRYSLER 300    3.6    6      Auto-8   2WD   \n",
       "462                        CHRYSLER 300    3.6    6      Auto-8   4WD   \n",
       "492                       DODGE Charger    3.6    6      Auto-8   2WD   \n",
       "496                       DODGE Charger    3.6    6      Auto-8   4WD   \n",
       "605   FORD Fusion Energi Plug-in Hybrid    2.0    4         CVT   2WD   \n",
       "659                       GMC Sierra 15    4.3    6      Auto-6   2WD   \n",
       "661                       GMC Sierra 15    4.3    6      Auto-6   4WD   \n",
       "663                       GMC Sierra 15    5.3    8      Auto-6   2WD   \n",
       "697                      GMC Yukon 1500    5.3    8      Auto-6   2WD   \n",
       "701                      GMC Yukon 1500    5.3    8      Auto-6   4WD   \n",
       "709                   GMC Yukon 1500 XL    5.3    8      Auto-6   2WD   \n",
       "715                   GMC Yukon XL 1500    5.3    8      Auto-6   4WD   \n",
       "892                       JEEP Cherokee    2.4    4      Auto-9   2WD   \n",
       "896                       JEEP Cherokee    2.4    4      Auto-9   4WD   \n",
       "933                        KARMA Revero    2.0    4      Auto-1   2WD   \n",
       "1162        MERCEDES-BENZ CLA250 4Matic    2.0    4   AutoMan-7   4WD   \n",
       "1179        MERCEDES-BENZ GLA250 4Matic    2.0    4   AutoMan-7   4WD   \n",
       "1192        MERCEDES-BENZ GLE350 4Matic    3.5    6      Auto-7   4WD   \n",
       "1256     MINI Cooper SE Countryman All4    1.5    3  SemiAuto-6   4WD   \n",
       "1507                 TOYOTA Sequoia FFV    5.7    8  SemiAuto-6   4WD   \n",
       "1517                  TOYOTA Tundra FFV    5.7    8  SemiAuto-6   4WD   \n",
       "1577                          VOLVO S90    2.0    4  SemiAuto-8   4WD   \n",
       "1601                        VOLVO XC 60    2.0    4  SemiAuto-8   4WD   \n",
       "1609                        VOLVO XC 90    2.0    4  SemiAuto-8   4WD   \n",
       "\n",
       "                      fuel     veh_class  air_pollution_score city_mpg  \\\n",
       "108   Gasoline/Electricity     small car                    3    28/66   \n",
       "160   Gasoline/Electricity     small car                    7    27/70   \n",
       "162   Gasoline/Electricity     small car                    7    27/66   \n",
       "188   Gasoline/Electricity     large car                    3    25/62   \n",
       "382            Ethanol/Gas     large car                    5    14/18   \n",
       "394            Ethanol/Gas        pickup                    5    12/18   \n",
       "396            Ethanol/Gas        pickup                    5    12/17   \n",
       "398            Ethanol/Gas        pickup                    3    12/16   \n",
       "428            Ethanol/Gas  standard SUV                    3    12/16   \n",
       "432            Ethanol/Gas  standard SUV                    3    11/16   \n",
       "436            Ethanol/Gas  standard SUV                    3    12/16   \n",
       "440            Ethanol/Gas  standard SUV                    3    11/16   \n",
       "454   Gasoline/Electricity     small car                    3   43/113   \n",
       "456   Gasoline/Electricity     small car                    7   43/113   \n",
       "458            Ethanol/Gas     large car                    3    14/19   \n",
       "462            Ethanol/Gas     large car                    3    13/18   \n",
       "492            Ethanol/Gas     large car                    3    14/19   \n",
       "496            Ethanol/Gas     large car                    3    13/18   \n",
       "605   Gasoline/Electricity   midsize car                    7   43/102   \n",
       "659            Ethanol/Gas        pickup                    5    12/18   \n",
       "661            Ethanol/Gas        pickup                    5    12/17   \n",
       "663            Ethanol/Gas        pickup                    3    12/16   \n",
       "697            Ethanol/Gas  standard SUV                    3    12/16   \n",
       "701            Ethanol/Gas  standard SUV                    3    11/16   \n",
       "709            Ethanol/Gas  standard SUV                    3    12/16   \n",
       "715            Ethanol/Gas  standard SUV                    3    11/16   \n",
       "892            Ethanol/Gas     small SUV                    3    15/21   \n",
       "896            Ethanol/Gas     small SUV                    3    14/21   \n",
       "933   Gasoline/Electricity     small car                    1    20/59   \n",
       "1162           Ethanol/Gas     small car                    5    17/24   \n",
       "1179           Ethanol/Gas     small SUV                    5    17/23   \n",
       "1192           Ethanol/Gas  standard SUV                    3    13/18   \n",
       "1256  Gasoline/Electricity   midsize car                    3    28/63   \n",
       "1507           Ethanol/Gas  standard SUV                    5     9/13   \n",
       "1517           Ethanol/Gas        pickup                    5     9/13   \n",
       "1577  Gasoline/Electricity   midsize car                    7    26/70   \n",
       "1601  Gasoline/Electricity     small SUV                    7    26/60   \n",
       "1609  Gasoline/Electricity  standard SUV                    7    26/63   \n",
       "\n",
       "     hwy_mpg cmb_mpg  greenhouse_gas_score smartway  \n",
       "108    34/78   30/71                    10      Yes  \n",
       "160    31/75   29/72                    10    Elite  \n",
       "162    31/68   28/67                    10    Elite  \n",
       "188    29/68   27/64                     9      Yes  \n",
       "382    20/28   16/22                     4       No  \n",
       "394    16/24   14/20                     4       No  \n",
       "396    15/22   13/19                     3       No  \n",
       "398    17/23   14/19                     3       No  \n",
       "428    17/23   14/19                     3       No  \n",
       "432    15/22   12/18                     3       No  \n",
       "436    17/23   14/19                     3       No  \n",
       "440    16/22   13/18                     3       No  \n",
       "454    42/99  42/106                    10      Yes  \n",
       "456    42/99  42/106                    10    Elite  \n",
       "458    22/30   17/23                     5       No  \n",
       "462    20/27   16/21                     4       No  \n",
       "492    22/30   17/23                     5       No  \n",
       "496    20/27   16/21                     4       No  \n",
       "605    41/91   42/97                    10    Elite  \n",
       "659    16/24   14/20                     4       No  \n",
       "661    15/22   13/19                     3       No  \n",
       "663    17/23   14/19                     3       No  \n",
       "697    17/23   14/19                     3       No  \n",
       "701    16/22   13/18                     3       No  \n",
       "709    17/23   14/19                     3       No  \n",
       "715    15/22   12/18                     3       No  \n",
       "892    22/30   18/25                     5       No  \n",
       "896    21/28   17/23                     5       No  \n",
       "933    21/61   20/60                    10       No  \n",
       "1162   24/32   20/27                     6       No  \n",
       "1179   23/31   19/26                     5       No  \n",
       "1192   17/22   14/19                     3       No  \n",
       "1256   27/66   27/65                     9      Yes  \n",
       "1507   13/17   10/14                     1       No  \n",
       "1517   12/17   10/15                     2       No  \n",
       "1577   33/72   29/71                    10    Elite  \n",
       "1601   28/58   26/59                    10    Elite  \n",
       "1609   30/61   27/62                    10    Elite  "
      ]
     },
     "execution_count": 40,
     "metadata": {},
     "output_type": "execute_result"
    }
   ],
   "source": [
    "# hybrids in 2018\n",
    "hb_18 = df_18[df_18['fuel'].str.contains('/')]\n",
    "hb_18"
   ]
  },
  {
   "cell_type": "markdown",
   "metadata": {},
   "source": [
    "#### Take each hybrid row and split them into two new rows - one with values for the first fuel type (values before the \"/\"), and the other with values for the second fuel type (values after the \"/\"). Separate them with two dataframes!"
   ]
  },
  {
   "cell_type": "code",
   "execution_count": 41,
   "metadata": {},
   "outputs": [
    {
     "data": {
      "text/html": [
       "<div>\n",
       "<style scoped>\n",
       "    .dataframe tbody tr th:only-of-type {\n",
       "        vertical-align: middle;\n",
       "    }\n",
       "\n",
       "    .dataframe tbody tr th {\n",
       "        vertical-align: top;\n",
       "    }\n",
       "\n",
       "    .dataframe thead th {\n",
       "        text-align: right;\n",
       "    }\n",
       "</style>\n",
       "<table border=\"1\" class=\"dataframe\">\n",
       "  <thead>\n",
       "    <tr style=\"text-align: right;\">\n",
       "      <th></th>\n",
       "      <th>model</th>\n",
       "      <th>displ</th>\n",
       "      <th>cyl</th>\n",
       "      <th>trans</th>\n",
       "      <th>drive</th>\n",
       "      <th>fuel</th>\n",
       "      <th>veh_class</th>\n",
       "      <th>air_pollution_score</th>\n",
       "      <th>city_mpg</th>\n",
       "      <th>hwy_mpg</th>\n",
       "      <th>cmb_mpg</th>\n",
       "      <th>greenhouse_gas_score</th>\n",
       "      <th>smartway</th>\n",
       "    </tr>\n",
       "  </thead>\n",
       "  <tbody>\n",
       "    <tr>\n",
       "      <th>1550</th>\n",
       "      <td>MERCEDES-BENZ C300</td>\n",
       "      <td>3.0</td>\n",
       "      <td>6</td>\n",
       "      <td>Auto-L7</td>\n",
       "      <td>2WD</td>\n",
       "      <td>ethanol/gas</td>\n",
       "      <td>small car</td>\n",
       "      <td>6/4</td>\n",
       "      <td>13/18</td>\n",
       "      <td>19/25</td>\n",
       "      <td>15/21</td>\n",
       "      <td>7/6</td>\n",
       "      <td>no</td>\n",
       "    </tr>\n",
       "  </tbody>\n",
       "</table>\n",
       "</div>"
      ],
      "text/plain": [
       "                   model  displ  cyl    trans drive         fuel  veh_class  \\\n",
       "1550  MERCEDES-BENZ C300    3.0    6  Auto-L7   2WD  ethanol/gas  small car   \n",
       "\n",
       "     air_pollution_score city_mpg hwy_mpg cmb_mpg greenhouse_gas_score  \\\n",
       "1550                 6/4    13/18   19/25   15/21                  7/6   \n",
       "\n",
       "     smartway  \n",
       "1550       no  "
      ]
     },
     "execution_count": 41,
     "metadata": {},
     "output_type": "execute_result"
    }
   ],
   "source": [
    "# create two copies of the 2008 hybrids dataframe\n",
    "df1 = hb_08.copy()  # data on first fuel type of each hybrid vehicle\n",
    "df2 = hb_08.copy()  # data on second fuel type of each hybrid vehicle\n",
    "\n",
    "# Each one should look like this\n",
    "df2"
   ]
  },
  {
   "cell_type": "code",
   "execution_count": 42,
   "metadata": {},
   "outputs": [],
   "source": [
    "# columns to split by \"/\"\n",
    "split_columns = ['fuel', 'air_pollution_score', 'city_mpg', 'hwy_mpg', 'cmb_mpg', 'greenhouse_gas_score']\n",
    "\n",
    "# apply split function to each column of each dataframe copy\n",
    "for c in split_columns:\n",
    "    df1[c] = df1[c].apply(lambda x: x.split(\"/\")[0])\n",
    "    df2[c] = df2[c].apply(lambda x: x.split(\"/\")[1])"
   ]
  },
  {
   "cell_type": "code",
   "execution_count": 43,
   "metadata": {},
   "outputs": [
    {
     "data": {
      "text/html": [
       "<div>\n",
       "<style scoped>\n",
       "    .dataframe tbody tr th:only-of-type {\n",
       "        vertical-align: middle;\n",
       "    }\n",
       "\n",
       "    .dataframe tbody tr th {\n",
       "        vertical-align: top;\n",
       "    }\n",
       "\n",
       "    .dataframe thead th {\n",
       "        text-align: right;\n",
       "    }\n",
       "</style>\n",
       "<table border=\"1\" class=\"dataframe\">\n",
       "  <thead>\n",
       "    <tr style=\"text-align: right;\">\n",
       "      <th></th>\n",
       "      <th>model</th>\n",
       "      <th>displ</th>\n",
       "      <th>cyl</th>\n",
       "      <th>trans</th>\n",
       "      <th>drive</th>\n",
       "      <th>fuel</th>\n",
       "      <th>veh_class</th>\n",
       "      <th>air_pollution_score</th>\n",
       "      <th>city_mpg</th>\n",
       "      <th>hwy_mpg</th>\n",
       "      <th>cmb_mpg</th>\n",
       "      <th>greenhouse_gas_score</th>\n",
       "      <th>smartway</th>\n",
       "    </tr>\n",
       "  </thead>\n",
       "  <tbody>\n",
       "    <tr>\n",
       "      <th>1550</th>\n",
       "      <td>MERCEDES-BENZ C300</td>\n",
       "      <td>3.0</td>\n",
       "      <td>6</td>\n",
       "      <td>Auto-L7</td>\n",
       "      <td>2WD</td>\n",
       "      <td>ethanol</td>\n",
       "      <td>small car</td>\n",
       "      <td>6</td>\n",
       "      <td>13</td>\n",
       "      <td>19</td>\n",
       "      <td>15</td>\n",
       "      <td>7</td>\n",
       "      <td>no</td>\n",
       "    </tr>\n",
       "  </tbody>\n",
       "</table>\n",
       "</div>"
      ],
      "text/plain": [
       "                   model  displ  cyl    trans drive     fuel  veh_class  \\\n",
       "1550  MERCEDES-BENZ C300    3.0    6  Auto-L7   2WD  ethanol  small car   \n",
       "\n",
       "     air_pollution_score city_mpg hwy_mpg cmb_mpg greenhouse_gas_score  \\\n",
       "1550                   6       13      19      15                    7   \n",
       "\n",
       "     smartway  \n",
       "1550       no  "
      ]
     },
     "execution_count": 43,
     "metadata": {},
     "output_type": "execute_result"
    }
   ],
   "source": [
    "# this dataframe holds info for the FIRST fuel type of the hybrid\n",
    "# aka the values before the \"/\"s\n",
    "df1"
   ]
  },
  {
   "cell_type": "code",
   "execution_count": 44,
   "metadata": {},
   "outputs": [
    {
     "data": {
      "text/html": [
       "<div>\n",
       "<style scoped>\n",
       "    .dataframe tbody tr th:only-of-type {\n",
       "        vertical-align: middle;\n",
       "    }\n",
       "\n",
       "    .dataframe tbody tr th {\n",
       "        vertical-align: top;\n",
       "    }\n",
       "\n",
       "    .dataframe thead th {\n",
       "        text-align: right;\n",
       "    }\n",
       "</style>\n",
       "<table border=\"1\" class=\"dataframe\">\n",
       "  <thead>\n",
       "    <tr style=\"text-align: right;\">\n",
       "      <th></th>\n",
       "      <th>model</th>\n",
       "      <th>displ</th>\n",
       "      <th>cyl</th>\n",
       "      <th>trans</th>\n",
       "      <th>drive</th>\n",
       "      <th>fuel</th>\n",
       "      <th>veh_class</th>\n",
       "      <th>air_pollution_score</th>\n",
       "      <th>city_mpg</th>\n",
       "      <th>hwy_mpg</th>\n",
       "      <th>cmb_mpg</th>\n",
       "      <th>greenhouse_gas_score</th>\n",
       "      <th>smartway</th>\n",
       "    </tr>\n",
       "  </thead>\n",
       "  <tbody>\n",
       "    <tr>\n",
       "      <th>1550</th>\n",
       "      <td>MERCEDES-BENZ C300</td>\n",
       "      <td>3.0</td>\n",
       "      <td>6</td>\n",
       "      <td>Auto-L7</td>\n",
       "      <td>2WD</td>\n",
       "      <td>gas</td>\n",
       "      <td>small car</td>\n",
       "      <td>4</td>\n",
       "      <td>18</td>\n",
       "      <td>25</td>\n",
       "      <td>21</td>\n",
       "      <td>6</td>\n",
       "      <td>no</td>\n",
       "    </tr>\n",
       "  </tbody>\n",
       "</table>\n",
       "</div>"
      ],
      "text/plain": [
       "                   model  displ  cyl    trans drive fuel  veh_class  \\\n",
       "1550  MERCEDES-BENZ C300    3.0    6  Auto-L7   2WD  gas  small car   \n",
       "\n",
       "     air_pollution_score city_mpg hwy_mpg cmb_mpg greenhouse_gas_score  \\\n",
       "1550                   4       18      25      21                    6   \n",
       "\n",
       "     smartway  \n",
       "1550       no  "
      ]
     },
     "execution_count": 44,
     "metadata": {},
     "output_type": "execute_result"
    }
   ],
   "source": [
    "\n",
    "# this dataframe holds info for the SECOND fuel type of the hybrid\n",
    "# aka the values after the \"/\"s\n",
    "df2"
   ]
  },
  {
   "cell_type": "code",
   "execution_count": 45,
   "metadata": {},
   "outputs": [
    {
     "data": {
      "text/html": [
       "<div>\n",
       "<style scoped>\n",
       "    .dataframe tbody tr th:only-of-type {\n",
       "        vertical-align: middle;\n",
       "    }\n",
       "\n",
       "    .dataframe tbody tr th {\n",
       "        vertical-align: top;\n",
       "    }\n",
       "\n",
       "    .dataframe thead th {\n",
       "        text-align: right;\n",
       "    }\n",
       "</style>\n",
       "<table border=\"1\" class=\"dataframe\">\n",
       "  <thead>\n",
       "    <tr style=\"text-align: right;\">\n",
       "      <th></th>\n",
       "      <th>model</th>\n",
       "      <th>displ</th>\n",
       "      <th>cyl</th>\n",
       "      <th>trans</th>\n",
       "      <th>drive</th>\n",
       "      <th>fuel</th>\n",
       "      <th>veh_class</th>\n",
       "      <th>air_pollution_score</th>\n",
       "      <th>city_mpg</th>\n",
       "      <th>hwy_mpg</th>\n",
       "      <th>cmb_mpg</th>\n",
       "      <th>greenhouse_gas_score</th>\n",
       "      <th>smartway</th>\n",
       "    </tr>\n",
       "  </thead>\n",
       "  <tbody>\n",
       "    <tr>\n",
       "      <th>1550</th>\n",
       "      <td>MERCEDES-BENZ C300</td>\n",
       "      <td>3.0</td>\n",
       "      <td>6</td>\n",
       "      <td>Auto-L7</td>\n",
       "      <td>2WD</td>\n",
       "      <td>ethanol</td>\n",
       "      <td>small car</td>\n",
       "      <td>6</td>\n",
       "      <td>13</td>\n",
       "      <td>19</td>\n",
       "      <td>15</td>\n",
       "      <td>7</td>\n",
       "      <td>no</td>\n",
       "    </tr>\n",
       "    <tr>\n",
       "      <th>1550</th>\n",
       "      <td>MERCEDES-BENZ C300</td>\n",
       "      <td>3.0</td>\n",
       "      <td>6</td>\n",
       "      <td>Auto-L7</td>\n",
       "      <td>2WD</td>\n",
       "      <td>gas</td>\n",
       "      <td>small car</td>\n",
       "      <td>4</td>\n",
       "      <td>18</td>\n",
       "      <td>25</td>\n",
       "      <td>21</td>\n",
       "      <td>6</td>\n",
       "      <td>no</td>\n",
       "    </tr>\n",
       "  </tbody>\n",
       "</table>\n",
       "</div>"
      ],
      "text/plain": [
       "                   model  displ  cyl    trans drive     fuel  veh_class  \\\n",
       "1550  MERCEDES-BENZ C300    3.0    6  Auto-L7   2WD  ethanol  small car   \n",
       "1550  MERCEDES-BENZ C300    3.0    6  Auto-L7   2WD      gas  small car   \n",
       "\n",
       "     air_pollution_score city_mpg hwy_mpg cmb_mpg greenhouse_gas_score  \\\n",
       "1550                   6       13      19      15                    7   \n",
       "1550                   4       18      25      21                    6   \n",
       "\n",
       "     smartway  \n",
       "1550       no  \n",
       "1550       no  "
      ]
     },
     "execution_count": 45,
     "metadata": {},
     "output_type": "execute_result"
    }
   ],
   "source": [
    "# combine dataframes to add to the original dataframe\n",
    "new_rows = df1.append(df2)\n",
    "\n",
    "# now we have separate rows for each fuel type of each vehicle!\n",
    "new_rows"
   ]
  },
  {
   "cell_type": "code",
   "execution_count": 46,
   "metadata": {},
   "outputs": [
    {
     "data": {
      "text/plain": [
       "Int64Index([1550], dtype='int64')"
      ]
     },
     "execution_count": 46,
     "metadata": {},
     "output_type": "execute_result"
    }
   ],
   "source": [
    "hb_08.index"
   ]
  },
  {
   "cell_type": "code",
   "execution_count": 47,
   "metadata": {},
   "outputs": [],
   "source": [
    "# drop the original hybrid rows\n",
    "df_08.drop(hb_08.index, inplace=True)\n",
    "\n",
    "# add in our newly separated rows\n",
    "df_08 = df_08.append(new_rows, ignore_index=True)"
   ]
  },
  {
   "cell_type": "code",
   "execution_count": 48,
   "metadata": {},
   "outputs": [
    {
     "data": {
      "text/html": [
       "<div>\n",
       "<style scoped>\n",
       "    .dataframe tbody tr th:only-of-type {\n",
       "        vertical-align: middle;\n",
       "    }\n",
       "\n",
       "    .dataframe tbody tr th {\n",
       "        vertical-align: top;\n",
       "    }\n",
       "\n",
       "    .dataframe thead th {\n",
       "        text-align: right;\n",
       "    }\n",
       "</style>\n",
       "<table border=\"1\" class=\"dataframe\">\n",
       "  <thead>\n",
       "    <tr style=\"text-align: right;\">\n",
       "      <th></th>\n",
       "      <th>model</th>\n",
       "      <th>displ</th>\n",
       "      <th>cyl</th>\n",
       "      <th>trans</th>\n",
       "      <th>drive</th>\n",
       "      <th>fuel</th>\n",
       "      <th>veh_class</th>\n",
       "      <th>air_pollution_score</th>\n",
       "      <th>city_mpg</th>\n",
       "      <th>hwy_mpg</th>\n",
       "      <th>cmb_mpg</th>\n",
       "      <th>greenhouse_gas_score</th>\n",
       "      <th>smartway</th>\n",
       "    </tr>\n",
       "  </thead>\n",
       "  <tbody>\n",
       "  </tbody>\n",
       "</table>\n",
       "</div>"
      ],
      "text/plain": [
       "Empty DataFrame\n",
       "Columns: [model, displ, cyl, trans, drive, fuel, veh_class, air_pollution_score, city_mpg, hwy_mpg, cmb_mpg, greenhouse_gas_score, smartway]\n",
       "Index: []"
      ]
     },
     "execution_count": 48,
     "metadata": {},
     "output_type": "execute_result"
    }
   ],
   "source": [
    "# check that all the original hybrid rows with \"/\"s are gone\n",
    "df_08[df_08['fuel'].str.contains('/')]"
   ]
  },
  {
   "cell_type": "code",
   "execution_count": 49,
   "metadata": {},
   "outputs": [
    {
     "data": {
      "text/plain": [
       "(987, 13)"
      ]
     },
     "execution_count": 49,
     "metadata": {},
     "output_type": "execute_result"
    }
   ],
   "source": [
    "\n",
    "df_08.shape"
   ]
  },
  {
   "cell_type": "code",
   "execution_count": 50,
   "metadata": {},
   "outputs": [],
   "source": [
    "# create two copies of the 2018 hybrids dataframe, hb_18\n",
    "df1 = hb_18.copy()\n",
    "df2 = hb_18.copy()\n",
    "#  df1"
   ]
  },
  {
   "cell_type": "code",
   "execution_count": 51,
   "metadata": {},
   "outputs": [],
   "source": [
    "# apply split function to each column of each dataframe copy\n",
    "\n",
    "# list of columns to split\n",
    "split_columns = ['fuel','city_mpg', 'hwy_mpg','cmb_mpg']\n",
    "\n",
    "# apply split function to each column of each dataframe copy\n",
    "for c in split_columns:\n",
    "    df1[c] = df1[c].apply(lambda x: x.split(\"/\")[0])\n",
    "    df2[c] = df2[c].apply(lambda x: x.split(\"/\")[1])\n",
    "# df1  no more /\n",
    "# df2"
   ]
  },
  {
   "cell_type": "code",
   "execution_count": 52,
   "metadata": {},
   "outputs": [],
   "source": [
    "# append the two dataframes\n",
    "new_rows = df1.append(df2)\n",
    "\n",
    "# drop each hybrid row from the original 2018 dataframe\n",
    "# do this by using Pandas drop function with hb_18's index\n",
    "df_18.drop(hb_18.index, inplace=True) # drop original one \n",
    "\n",
    "# append new_rows to df_18  \n",
    "df_18 = df_18.append(new_rows,ignore_index=True)"
   ]
  },
  {
   "cell_type": "code",
   "execution_count": 53,
   "metadata": {},
   "outputs": [
    {
     "data": {
      "text/html": [
       "<div>\n",
       "<style scoped>\n",
       "    .dataframe tbody tr th:only-of-type {\n",
       "        vertical-align: middle;\n",
       "    }\n",
       "\n",
       "    .dataframe tbody tr th {\n",
       "        vertical-align: top;\n",
       "    }\n",
       "\n",
       "    .dataframe thead th {\n",
       "        text-align: right;\n",
       "    }\n",
       "</style>\n",
       "<table border=\"1\" class=\"dataframe\">\n",
       "  <thead>\n",
       "    <tr style=\"text-align: right;\">\n",
       "      <th></th>\n",
       "      <th>model</th>\n",
       "      <th>displ</th>\n",
       "      <th>cyl</th>\n",
       "      <th>trans</th>\n",
       "      <th>drive</th>\n",
       "      <th>fuel</th>\n",
       "      <th>veh_class</th>\n",
       "      <th>air_pollution_score</th>\n",
       "      <th>city_mpg</th>\n",
       "      <th>hwy_mpg</th>\n",
       "      <th>cmb_mpg</th>\n",
       "      <th>greenhouse_gas_score</th>\n",
       "      <th>smartway</th>\n",
       "    </tr>\n",
       "  </thead>\n",
       "  <tbody>\n",
       "  </tbody>\n",
       "</table>\n",
       "</div>"
      ],
      "text/plain": [
       "Empty DataFrame\n",
       "Columns: [model, displ, cyl, trans, drive, fuel, veh_class, air_pollution_score, city_mpg, hwy_mpg, cmb_mpg, greenhouse_gas_score, smartway]\n",
       "Index: []"
      ]
     },
     "execution_count": 53,
     "metadata": {},
     "output_type": "execute_result"
    }
   ],
   "source": [
    "# check that they're gone\n",
    "df_18[df_18['fuel'].str.contains('/')]"
   ]
  },
  {
   "cell_type": "code",
   "execution_count": 54,
   "metadata": {},
   "outputs": [
    {
     "data": {
      "text/plain": [
       "((832, 13), (987, 13))"
      ]
     },
     "execution_count": 54,
     "metadata": {},
     "output_type": "execute_result"
    }
   ],
   "source": [
    "df_18.shape, df_08.shape"
   ]
  },
  {
   "cell_type": "code",
   "execution_count": 55,
   "metadata": {},
   "outputs": [],
   "source": [
    "# convert string to float for 2008 air pollution column\n",
    "df_08['air_pollution_score'] = df_08['air_pollution_score'].astype('float64')\n",
    "\n",
    "# convert int to float for 2018 air pollution column\n",
    "df_18['air_pollution_score'] = df_18['air_pollution_score'].astype('float64')"
   ]
  },
  {
   "cell_type": "code",
   "execution_count": 56,
   "metadata": {},
   "outputs": [
    {
     "data": {
      "text/plain": [
       "(model                    object\n",
       " displ                   float64\n",
       " cyl                       int32\n",
       " trans                    object\n",
       " drive                    object\n",
       " fuel                     object\n",
       " veh_class                object\n",
       " air_pollution_score     float64\n",
       " city_mpg                 object\n",
       " hwy_mpg                  object\n",
       " cmb_mpg                  object\n",
       " greenhouse_gas_score      int64\n",
       " smartway                 object\n",
       " dtype: object,\n",
       " model                    object\n",
       " displ                   float64\n",
       " cyl                       int32\n",
       " trans                    object\n",
       " drive                    object\n",
       " fuel                     object\n",
       " veh_class                object\n",
       " air_pollution_score     float64\n",
       " city_mpg                 object\n",
       " hwy_mpg                  object\n",
       " cmb_mpg                  object\n",
       " greenhouse_gas_score      int64\n",
       " smartway                 object\n",
       " dtype: object)"
      ]
     },
     "execution_count": 56,
     "metadata": {},
     "output_type": "execute_result"
    }
   ],
   "source": [
    "# data types of 2018 dataset\n",
    "df_18.dtypes, df_18.dtypes"
   ]
  },
  {
   "cell_type": "code",
   "execution_count": 57,
   "metadata": {},
   "outputs": [],
   "source": [
    "df_08.to_csv('data_08_v4.csv', index=False)\n",
    "df_18.to_csv('data_18_v4.csv', index=False)"
   ]
  },
  {
   "cell_type": "code",
   "execution_count": 58,
   "metadata": {},
   "outputs": [
    {
     "data": {
      "text/plain": [
       "model                    object\n",
       "displ                   float64\n",
       "cyl                       int64\n",
       "trans                    object\n",
       "drive                    object\n",
       "fuel                     object\n",
       "veh_class                object\n",
       "air_pollution_score     float64\n",
       "city_mpg                  int64\n",
       "hwy_mpg                   int64\n",
       "cmb_mpg                   int64\n",
       "greenhouse_gas_score      int64\n",
       "smartway                 object\n",
       "dtype: object"
      ]
     },
     "execution_count": 58,
     "metadata": {},
     "output_type": "execute_result"
    }
   ],
   "source": [
    "df_08 = pd.read_csv('data_08_v4.csv')\n",
    "df_18 = pd.read_csv('data_18_v4.csv')\n",
    "df_08.dtypes"
   ]
  },
  {
   "cell_type": "code",
   "execution_count": 59,
   "metadata": {},
   "outputs": [],
   "source": [
    "# convert mpg columns to floats\n",
    "mpg_columns = ['city_mpg', 'hwy_mpg', 'cmb_mpg']\n",
    "for c in mpg_columns:\n",
    "    df_18[c] = df_18[c].astype(float)\n",
    "    df_08[c] = df_08[c].astype(float)"
   ]
  },
  {
   "cell_type": "code",
   "execution_count": 60,
   "metadata": {},
   "outputs": [
    {
     "data": {
      "text/plain": [
       "model                    object\n",
       "displ                   float64\n",
       "cyl                       int64\n",
       "trans                    object\n",
       "drive                    object\n",
       "fuel                     object\n",
       "veh_class                object\n",
       "air_pollution_score     float64\n",
       "city_mpg                float64\n",
       "hwy_mpg                 float64\n",
       "cmb_mpg                 float64\n",
       "greenhouse_gas_score      int64\n",
       "smartway                 object\n",
       "dtype: object"
      ]
     },
     "execution_count": 60,
     "metadata": {},
     "output_type": "execute_result"
    }
   ],
   "source": [
    "df_08.dtypes"
   ]
  },
  {
   "cell_type": "code",
   "execution_count": 61,
   "metadata": {},
   "outputs": [],
   "source": [
    "# convert from float to int64\n",
    "df_08['greenhouse_gas_score'] = df_08['greenhouse_gas_score'].astype(np.int64)"
   ]
  },
  {
   "cell_type": "code",
   "execution_count": 62,
   "metadata": {},
   "outputs": [
    {
     "data": {
      "text/plain": [
       "(model                    object\n",
       " displ                   float64\n",
       " cyl                       int64\n",
       " trans                    object\n",
       " drive                    object\n",
       " fuel                     object\n",
       " veh_class                object\n",
       " air_pollution_score     float64\n",
       " city_mpg                float64\n",
       " hwy_mpg                 float64\n",
       " cmb_mpg                 float64\n",
       " greenhouse_gas_score      int64\n",
       " smartway                 object\n",
       " dtype: object,\n",
       " model                    object\n",
       " displ                   float64\n",
       " cyl                       int64\n",
       " trans                    object\n",
       " drive                    object\n",
       " fuel                     object\n",
       " veh_class                object\n",
       " air_pollution_score     float64\n",
       " city_mpg                float64\n",
       " hwy_mpg                 float64\n",
       " cmb_mpg                 float64\n",
       " greenhouse_gas_score      int64\n",
       " smartway                 object\n",
       " dtype: object)"
      ]
     },
     "execution_count": 62,
     "metadata": {},
     "output_type": "execute_result"
    }
   ],
   "source": [
    "# All the dataypes are now fixed! Take one last check to confirm all the changes.\n",
    "df_08.dtypes, df_18.dtypes"
   ]
  },
  {
   "cell_type": "code",
   "execution_count": 63,
   "metadata": {},
   "outputs": [
    {
     "data": {
      "text/plain": [
       "model                   True\n",
       "displ                   True\n",
       "cyl                     True\n",
       "trans                   True\n",
       "drive                   True\n",
       "fuel                    True\n",
       "veh_class               True\n",
       "air_pollution_score     True\n",
       "city_mpg                True\n",
       "hwy_mpg                 True\n",
       "cmb_mpg                 True\n",
       "greenhouse_gas_score    True\n",
       "smartway                True\n",
       "dtype: bool"
      ]
     },
     "execution_count": 63,
     "metadata": {},
     "output_type": "execute_result"
    }
   ],
   "source": [
    "df_08.dtypes == df_18.dtypes"
   ]
  },
  {
   "cell_type": "markdown",
   "metadata": {},
   "source": [
    "## Data Visualisation"
   ]
  },
  {
   "cell_type": "code",
   "execution_count": 64,
   "metadata": {},
   "outputs": [],
   "source": [
    "# Save your final CLEAN datasets as new files!\n",
    "df_08.to_csv('clean_08.csv', index=False)\n",
    "df_18.to_csv('clean_18.csv', index=False)"
   ]
  },
  {
   "cell_type": "code",
   "execution_count": 65,
   "metadata": {},
   "outputs": [],
   "source": [
    "df_08 = pd.read_csv('clean_08.csv')\n",
    "df_18 = pd.read_csv('clean_18.csv')"
   ]
  },
  {
   "cell_type": "code",
   "execution_count": 66,
   "metadata": {},
   "outputs": [
    {
     "data": {
      "text/plain": [
       "((987, 13), (832, 13))"
      ]
     },
     "execution_count": 66,
     "metadata": {},
     "output_type": "execute_result"
    }
   ],
   "source": [
    "df_08.shape, df_18.shape"
   ]
  },
  {
   "cell_type": "code",
   "execution_count": 67,
   "metadata": {},
   "outputs": [
    {
     "data": {
      "text/plain": [
       "array([[<matplotlib.axes._subplots.AxesSubplot object at 0x000001A0E6961688>,\n",
       "        <matplotlib.axes._subplots.AxesSubplot object at 0x000001A0E804BB08>,\n",
       "        <matplotlib.axes._subplots.AxesSubplot object at 0x000001A0E8091E48>],\n",
       "       [<matplotlib.axes._subplots.AxesSubplot object at 0x000001A0E80CE6C8>,\n",
       "        <matplotlib.axes._subplots.AxesSubplot object at 0x000001A0E8109588>,\n",
       "        <matplotlib.axes._subplots.AxesSubplot object at 0x000001A0E8142408>],\n",
       "       [<matplotlib.axes._subplots.AxesSubplot object at 0x000001A0E8179208>,\n",
       "        <matplotlib.axes._subplots.AxesSubplot object at 0x000001A0E81AEF08>,\n",
       "        <matplotlib.axes._subplots.AxesSubplot object at 0x000001A0E81B5148>]],\n",
       "      dtype=object)"
      ]
     },
     "execution_count": 67,
     "metadata": {},
     "output_type": "execute_result"
    },
    {
     "data": {
      "image/png": "[encoded data removed]",
      "text/plain": [
       "<Figure size 720x720 with 9 Axes>"
      ]
     },
     "metadata": {
      "needs_background": "light"
     },
     "output_type": "display_data"
    }
   ],
   "source": [
    "df_18.hist(figsize=(10,10))"
   ]
  },
  {
   "cell_type": "markdown",
   "metadata": {},
   "source": [
    "Throught the plot, we can see from 2008 to 2018, combined_mpg becomes more skewed to the right.\n",
    "Also, the distributions of greenhouse gas score turns to be more skewed to left.\n",
    "These plots indicate a general improvement in the fuel effeciency performance over the years."
   ]
  },
  {
   "cell_type": "code",
   "execution_count": 71,
   "metadata": {},
   "outputs": [
    {
     "data": {
      "image/png": "[encoded data removed]",
      "text/plain": [
       "<Figure size 432x288 with 1 Axes>"
      ]
     },
     "metadata": {
      "needs_background": "light"
     },
     "output_type": "display_data"
    }
   ],
   "source": [
    "plt.scatter(data = df_08 , x='cmb_mpg' , y = 'displ') ;\n",
    "plt.title('The relationship Engine Size and Combined_mpg in 2008')\n",
    "plt.xlabel('Combined miles per gallon (MPG)')\n",
    "plt.ylabel('Engine Displacement Size')\n",
    "plt.show()"
   ]
  },
  {
   "cell_type": "code",
   "execution_count": 72,
   "metadata": {},
   "outputs": [
    {
     "data": {
      "image/png": "[encoded data removed]",
      "text/plain": [
       "<Figure size 432x288 with 1 Axes>"
      ]
     },
     "metadata": {
      "needs_background": "light"
     },
     "output_type": "display_data"
    }
   ],
   "source": [
    "plt.scatter(data = df_18 , x='cmb_mpg' , y = 'displ')\n",
    "plt.title('The relationship Engine Size and Combined_mpg in 2018')\n",
    "plt.xlabel('Combined miles per gallon (MPG)')\n",
    "plt.ylabel('Engine Displacement Size')\n",
    "plt.show()"
   ]
  },
  {
   "cell_type": "markdown",
   "metadata": {},
   "source": [
    "There is a visible negative coorelation between displacement and combined mpg irrespective of the year. This indicates that smaller engines in general are more fuel effecient than the larger engines with more displacement."
   ]
  },
  {
   "cell_type": "code",
   "execution_count": 75,
   "metadata": {},
   "outputs": [
    {
     "data": {
      "image/png": "[encoded data removed]",
      "text/plain": [
       "<Figure size 432x288 with 1 Axes>"
      ]
     },
     "metadata": {
      "needs_background": "light"
     },
     "output_type": "display_data"
    }
   ],
   "source": [
    "plt.scatter( data = df_08 , x='cmb_mpg' , y = 'greenhouse_gas_score') ;\n",
    "plt.title('Combined_mpg aginst Greenhouse_gas_score in 2008')\n",
    "plt.xlabel('Combined miles per gallon (MPG)')\n",
    "plt.ylabel('Greenhouse gas score')\n",
    "plt.show()"
   ]
  },
  {
   "cell_type": "code",
   "execution_count": 76,
   "metadata": {},
   "outputs": [
    {
     "data": {
      "image/png": "[encoded data removed]",
      "text/plain": [
       "<Figure size 432x288 with 1 Axes>"
      ]
     },
     "metadata": {
      "needs_background": "light"
     },
     "output_type": "display_data"
    }
   ],
   "source": [
    "plt.scatter( data = df_18 , x='cmb_mpg' , y = 'greenhouse_gas_score') ;\n",
    "plt.title('Combined_mpg aginst Greenhouse_gas_score in 2018')\n",
    "plt.xlabel('Combined miles per gallon (MPG)')\n",
    "plt.ylabel('Greenhouse gas score')\n",
    "plt.show()"
   ]
  },
  {
   "cell_type": "markdown",
   "metadata": {},
   "source": [
    "From the above graph, there is a strong positive correlation between greenhouse gas score and combined mpg. This makes sense because higher fuel efficiency corresponds better cars having less greenhouse gas emissions. Hence a fuel efficient car is also more environmentally friendly in the sense that it produces lesser greenhouse gases."
   ]
  },
  {
   "cell_type": "markdown",
   "metadata": {},
   "source": [
    "### Data Analysis\n",
    "\n",
    "#### From the cleaned data we now proceed to extract interesting information. We compare the car performance metrics from 2008 and 2018 and comment on the various changes in fuel performance over the years.\n",
    "\n",
    "#### For our data analysis we attempt to answer the following questions\n",
    "\n",
    "##### Q1: Are more unique models using alternative fuels in 2018 compared to 2008? By how much? \n",
    "##### Q2: How much have vehicle classes improved in fuel economy (increased in mpg)? \n",
    "##### Q3: What are the characteristics of SmartWay vehicles? Have they changed over time? (mpg, greenhouse gas) \n",
    "##### Q4: What features are associated with better fuel economy (mpg)? \n",
    "##### Q5:For all of the models that were produced in 2008 that are still being produced in 2018, how much has the mpg improved and which vehicle improved the most?"
   ]
  },
  {
   "cell_type": "code",
   "execution_count": 77,
   "metadata": {},
   "outputs": [
    {
     "data": {
      "text/html": [
       "<div>\n",
       "<style scoped>\n",
       "    .dataframe tbody tr th:only-of-type {\n",
       "        vertical-align: middle;\n",
       "    }\n",
       "\n",
       "    .dataframe tbody tr th {\n",
       "        vertical-align: top;\n",
       "    }\n",
       "\n",
       "    .dataframe thead th {\n",
       "        text-align: right;\n",
       "    }\n",
       "</style>\n",
       "<table border=\"1\" class=\"dataframe\">\n",
       "  <thead>\n",
       "    <tr style=\"text-align: right;\">\n",
       "      <th></th>\n",
       "      <th>model</th>\n",
       "      <th>displ</th>\n",
       "      <th>cyl</th>\n",
       "      <th>trans</th>\n",
       "      <th>drive</th>\n",
       "      <th>fuel</th>\n",
       "      <th>veh_class</th>\n",
       "      <th>air_pollution_score</th>\n",
       "      <th>city_mpg</th>\n",
       "      <th>hwy_mpg</th>\n",
       "      <th>cmb_mpg</th>\n",
       "      <th>greenhouse_gas_score</th>\n",
       "      <th>smartway</th>\n",
       "    </tr>\n",
       "  </thead>\n",
       "  <tbody>\n",
       "    <tr>\n",
       "      <th>0</th>\n",
       "      <td>ACURA MDX</td>\n",
       "      <td>3.7</td>\n",
       "      <td>6</td>\n",
       "      <td>Auto-S5</td>\n",
       "      <td>4WD</td>\n",
       "      <td>Gasoline</td>\n",
       "      <td>SUV</td>\n",
       "      <td>7.0</td>\n",
       "      <td>15.0</td>\n",
       "      <td>20.0</td>\n",
       "      <td>17.0</td>\n",
       "      <td>4</td>\n",
       "      <td>no</td>\n",
       "    </tr>\n",
       "    <tr>\n",
       "      <th>1</th>\n",
       "      <td>ACURA RDX</td>\n",
       "      <td>2.3</td>\n",
       "      <td>4</td>\n",
       "      <td>Auto-S5</td>\n",
       "      <td>4WD</td>\n",
       "      <td>Gasoline</td>\n",
       "      <td>SUV</td>\n",
       "      <td>7.0</td>\n",
       "      <td>17.0</td>\n",
       "      <td>22.0</td>\n",
       "      <td>19.0</td>\n",
       "      <td>5</td>\n",
       "      <td>no</td>\n",
       "    </tr>\n",
       "    <tr>\n",
       "      <th>2</th>\n",
       "      <td>ACURA RL</td>\n",
       "      <td>3.5</td>\n",
       "      <td>6</td>\n",
       "      <td>Auto-S5</td>\n",
       "      <td>4WD</td>\n",
       "      <td>Gasoline</td>\n",
       "      <td>midsize car</td>\n",
       "      <td>7.0</td>\n",
       "      <td>16.0</td>\n",
       "      <td>24.0</td>\n",
       "      <td>19.0</td>\n",
       "      <td>5</td>\n",
       "      <td>no</td>\n",
       "    </tr>\n",
       "    <tr>\n",
       "      <th>3</th>\n",
       "      <td>ACURA TL</td>\n",
       "      <td>3.2</td>\n",
       "      <td>6</td>\n",
       "      <td>Auto-S5</td>\n",
       "      <td>2WD</td>\n",
       "      <td>Gasoline</td>\n",
       "      <td>midsize car</td>\n",
       "      <td>7.0</td>\n",
       "      <td>18.0</td>\n",
       "      <td>26.0</td>\n",
       "      <td>21.0</td>\n",
       "      <td>6</td>\n",
       "      <td>yes</td>\n",
       "    </tr>\n",
       "    <tr>\n",
       "      <th>4</th>\n",
       "      <td>ACURA TL</td>\n",
       "      <td>3.5</td>\n",
       "      <td>6</td>\n",
       "      <td>Auto-S5</td>\n",
       "      <td>2WD</td>\n",
       "      <td>Gasoline</td>\n",
       "      <td>midsize car</td>\n",
       "      <td>7.0</td>\n",
       "      <td>17.0</td>\n",
       "      <td>26.0</td>\n",
       "      <td>20.0</td>\n",
       "      <td>6</td>\n",
       "      <td>yes</td>\n",
       "    </tr>\n",
       "  </tbody>\n",
       "</table>\n",
       "</div>"
      ],
      "text/plain": [
       "       model  displ  cyl    trans drive      fuel    veh_class  \\\n",
       "0  ACURA MDX    3.7    6  Auto-S5   4WD  Gasoline          SUV   \n",
       "1  ACURA RDX    2.3    4  Auto-S5   4WD  Gasoline          SUV   \n",
       "2   ACURA RL    3.5    6  Auto-S5   4WD  Gasoline  midsize car   \n",
       "3   ACURA TL    3.2    6  Auto-S5   2WD  Gasoline  midsize car   \n",
       "4   ACURA TL    3.5    6  Auto-S5   2WD  Gasoline  midsize car   \n",
       "\n",
       "   air_pollution_score  city_mpg  hwy_mpg  cmb_mpg  greenhouse_gas_score  \\\n",
       "0                  7.0      15.0     20.0     17.0                     4   \n",
       "1                  7.0      17.0     22.0     19.0                     5   \n",
       "2                  7.0      16.0     24.0     19.0                     5   \n",
       "3                  7.0      18.0     26.0     21.0                     6   \n",
       "4                  7.0      17.0     26.0     20.0                     6   \n",
       "\n",
       "  smartway  \n",
       "0       no  \n",
       "1       no  \n",
       "2       no  \n",
       "3      yes  \n",
       "4      yes  "
      ]
     },
     "execution_count": 77,
     "metadata": {},
     "output_type": "execute_result"
    }
   ],
   "source": [
    "df_08 = pd.read_csv('clean_08.csv')\n",
    "df_18 = pd.read_csv('clean_18.csv')\n",
    "df_08.head()"
   ]
  },
  {
   "cell_type": "code",
   "execution_count": 78,
   "metadata": {},
   "outputs": [
    {
     "data": {
      "text/html": [
       "<div>\n",
       "<style scoped>\n",
       "    .dataframe tbody tr th:only-of-type {\n",
       "        vertical-align: middle;\n",
       "    }\n",
       "\n",
       "    .dataframe tbody tr th {\n",
       "        vertical-align: top;\n",
       "    }\n",
       "\n",
       "    .dataframe thead th {\n",
       "        text-align: right;\n",
       "    }\n",
       "</style>\n",
       "<table border=\"1\" class=\"dataframe\">\n",
       "  <thead>\n",
       "    <tr style=\"text-align: right;\">\n",
       "      <th></th>\n",
       "      <th>model</th>\n",
       "      <th>displ</th>\n",
       "      <th>cyl</th>\n",
       "      <th>trans</th>\n",
       "      <th>drive</th>\n",
       "      <th>fuel</th>\n",
       "      <th>veh_class</th>\n",
       "      <th>air_pollution_score</th>\n",
       "      <th>city_mpg</th>\n",
       "      <th>hwy_mpg</th>\n",
       "      <th>cmb_mpg</th>\n",
       "      <th>greenhouse_gas_score</th>\n",
       "      <th>smartway</th>\n",
       "    </tr>\n",
       "  </thead>\n",
       "  <tbody>\n",
       "    <tr>\n",
       "      <th>0</th>\n",
       "      <td>ACURA RDX</td>\n",
       "      <td>3.5</td>\n",
       "      <td>6</td>\n",
       "      <td>SemiAuto-6</td>\n",
       "      <td>2WD</td>\n",
       "      <td>Gasoline</td>\n",
       "      <td>small SUV</td>\n",
       "      <td>3.0</td>\n",
       "      <td>20.0</td>\n",
       "      <td>28.0</td>\n",
       "      <td>23.0</td>\n",
       "      <td>5</td>\n",
       "      <td>No</td>\n",
       "    </tr>\n",
       "    <tr>\n",
       "      <th>1</th>\n",
       "      <td>ACURA RDX</td>\n",
       "      <td>3.5</td>\n",
       "      <td>6</td>\n",
       "      <td>SemiAuto-6</td>\n",
       "      <td>4WD</td>\n",
       "      <td>Gasoline</td>\n",
       "      <td>small SUV</td>\n",
       "      <td>3.0</td>\n",
       "      <td>19.0</td>\n",
       "      <td>27.0</td>\n",
       "      <td>22.0</td>\n",
       "      <td>4</td>\n",
       "      <td>No</td>\n",
       "    </tr>\n",
       "    <tr>\n",
       "      <th>2</th>\n",
       "      <td>ACURA TLX</td>\n",
       "      <td>2.4</td>\n",
       "      <td>4</td>\n",
       "      <td>AMS-8</td>\n",
       "      <td>2WD</td>\n",
       "      <td>Gasoline</td>\n",
       "      <td>small car</td>\n",
       "      <td>3.0</td>\n",
       "      <td>23.0</td>\n",
       "      <td>33.0</td>\n",
       "      <td>27.0</td>\n",
       "      <td>6</td>\n",
       "      <td>No</td>\n",
       "    </tr>\n",
       "    <tr>\n",
       "      <th>3</th>\n",
       "      <td>ACURA TLX</td>\n",
       "      <td>3.5</td>\n",
       "      <td>6</td>\n",
       "      <td>SemiAuto-9</td>\n",
       "      <td>2WD</td>\n",
       "      <td>Gasoline</td>\n",
       "      <td>small car</td>\n",
       "      <td>3.0</td>\n",
       "      <td>20.0</td>\n",
       "      <td>32.0</td>\n",
       "      <td>24.0</td>\n",
       "      <td>5</td>\n",
       "      <td>No</td>\n",
       "    </tr>\n",
       "    <tr>\n",
       "      <th>4</th>\n",
       "      <td>ACURA TLX</td>\n",
       "      <td>3.5</td>\n",
       "      <td>6</td>\n",
       "      <td>SemiAuto-9</td>\n",
       "      <td>4WD</td>\n",
       "      <td>Gasoline</td>\n",
       "      <td>small car</td>\n",
       "      <td>3.0</td>\n",
       "      <td>21.0</td>\n",
       "      <td>30.0</td>\n",
       "      <td>24.0</td>\n",
       "      <td>5</td>\n",
       "      <td>No</td>\n",
       "    </tr>\n",
       "  </tbody>\n",
       "</table>\n",
       "</div>"
      ],
      "text/plain": [
       "       model  displ  cyl       trans drive      fuel  veh_class  \\\n",
       "0  ACURA RDX    3.5    6  SemiAuto-6   2WD  Gasoline  small SUV   \n",
       "1  ACURA RDX    3.5    6  SemiAuto-6   4WD  Gasoline  small SUV   \n",
       "2  ACURA TLX    2.4    4       AMS-8   2WD  Gasoline  small car   \n",
       "3  ACURA TLX    3.5    6  SemiAuto-9   2WD  Gasoline  small car   \n",
       "4  ACURA TLX    3.5    6  SemiAuto-9   4WD  Gasoline  small car   \n",
       "\n",
       "   air_pollution_score  city_mpg  hwy_mpg  cmb_mpg  greenhouse_gas_score  \\\n",
       "0                  3.0      20.0     28.0     23.0                     5   \n",
       "1                  3.0      19.0     27.0     22.0                     4   \n",
       "2                  3.0      23.0     33.0     27.0                     6   \n",
       "3                  3.0      20.0     32.0     24.0                     5   \n",
       "4                  3.0      21.0     30.0     24.0                     5   \n",
       "\n",
       "  smartway  \n",
       "0       No  \n",
       "1       No  \n",
       "2       No  \n",
       "3       No  \n",
       "4       No  "
      ]
     },
     "execution_count": 78,
     "metadata": {},
     "output_type": "execute_result"
    }
   ],
   "source": [
    "df_18.head()"
   ]
  },
  {
   "cell_type": "markdown",
   "metadata": {},
   "source": [
    "### Q1: Are more unique models using alternative sources of fuel? By how much?"
   ]
  },
  {
   "cell_type": "code",
   "execution_count": 79,
   "metadata": {},
   "outputs": [
    {
     "data": {
      "text/plain": [
       "(array(['Gasoline', 'CNG', 'ethanol', 'gas'], dtype=object),\n",
       " array(['Gasoline', 'Diesel', 'Ethanol', 'Electricity', 'Gas'],\n",
       "       dtype=object))"
      ]
     },
     "execution_count": 79,
     "metadata": {},
     "output_type": "execute_result"
    }
   ],
   "source": [
    "df_08[\"fuel\"].unique(), df_18[\"fuel\"].unique()"
   ]
  },
  {
   "cell_type": "markdown",
   "metadata": {},
   "source": [
    "We can see that 2008 models uses CNG and ethanol as alternative fuel sources and 2018 models use ethanol and electricity"
   ]
  },
  {
   "cell_type": "code",
   "execution_count": 80,
   "metadata": {},
   "outputs": [
    {
     "data": {
      "text/plain": [
       "Gasoline    984\n",
       "CNG           1\n",
       "gas           1\n",
       "ethanol       1\n",
       "Name: fuel, dtype: int64"
      ]
     },
     "execution_count": 80,
     "metadata": {},
     "output_type": "execute_result"
    }
   ],
   "source": [
    "# q1: what are the alternative sources?  CNG and Ethanol and Electricity are all altenative sources\n",
    "df_08['fuel'].value_counts()  # CNG and Ethanol"
   ]
  },
  {
   "cell_type": "code",
   "execution_count": 81,
   "metadata": {},
   "outputs": [
    {
     "data": {
      "text/plain": [
       "Gasoline       749\n",
       "Ethanol         26\n",
       "Gas             26\n",
       "Diesel          19\n",
       "Electricity     12\n",
       "Name: fuel, dtype: int64"
      ]
     },
     "execution_count": 81,
     "metadata": {},
     "output_type": "execute_result"
    }
   ],
   "source": [
    "df_18['fuel'].value_counts() "
   ]
  },
  {
   "cell_type": "code",
   "execution_count": 83,
   "metadata": {},
   "outputs": [],
   "source": [
    "# unique models used alternative sources of fuel in 2008 and 2018\n",
    "al_08 = df_08.query('fuel in [\"CNG\",\"ethanol\"]').model.nunique()\n",
    "al_18 = df_18.query('fuel in [\"Electricity\",\"Ethanol\"]').model.nunique() "
   ]
  },
  {
   "cell_type": "code",
   "execution_count": 84,
   "metadata": {},
   "outputs": [
    {
     "data": {
      "text/plain": [
       "(2, 26)"
      ]
     },
     "execution_count": 84,
     "metadata": {},
     "output_type": "execute_result"
    }
   ],
   "source": [
    "al_08, al_18"
   ]
  },
  {
   "cell_type": "code",
   "execution_count": 85,
   "metadata": {},
   "outputs": [
    {
     "data": {
      "image/png": "[encoded data removed]",
      "text/plain": [
       "<Figure size 432x288 with 1 Axes>"
      ]
     },
     "metadata": {
      "needs_background": "light"
     },
     "output_type": "display_data"
    }
   ],
   "source": [
    "plt.bar(['2008','2018'],[al_08 , al_18] )\n",
    "plt.title('Unique Models Using Alternative Sources Distribution ')\n",
    "plt.xlabel('Year')\n",
    "plt.ylabel('Numbers of Unique Models');"
   ]
  },
  {
   "cell_type": "markdown",
   "metadata": {},
   "source": [
    "#### From the above plot we can see that the number of models adopting alternative fuel has increased in 2018 as compared to 2008"
   ]
  },
  {
   "cell_type": "code",
   "execution_count": 86,
   "metadata": {},
   "outputs": [
    {
     "data": {
      "text/plain": [
       "(377, 357)"
      ]
     },
     "execution_count": 86,
     "metadata": {},
     "output_type": "execute_result"
    }
   ],
   "source": [
    "# total unique models each year\n",
    "total_08 = df_08.model.nunique()\n",
    "total_18 = df_18.model.nunique()\n",
    "total_08, total_18"
   ]
  },
  {
   "cell_type": "code",
   "execution_count": 87,
   "metadata": {},
   "outputs": [
    {
     "data": {
      "text/plain": [
       "(0.005305039787798408, 0.07282913165266107)"
      ]
     },
     "execution_count": 87,
     "metadata": {},
     "output_type": "execute_result"
    }
   ],
   "source": [
    "prop_08 = al_08/total_08\n",
    "prop_18 = al_18/total_18\n",
    "prop_08, prop_18"
   ]
  },
  {
   "cell_type": "code",
   "execution_count": 88,
   "metadata": {},
   "outputs": [
    {
     "data": {
      "image/png": "[encoded data removed]",
      "text/plain": [
       "<Figure size 432x288 with 1 Axes>"
      ]
     },
     "metadata": {
      "needs_background": "light"
     },
     "output_type": "display_data"
    }
   ],
   "source": [
    "plt.bar([\"2008\", \"2018\"], [prop_08, prop_18])\n",
    "plt.title(\"Proportion of Unique Models Using Alternative Fuels\")\n",
    "plt.xlabel(\"Year\")\n",
    "plt.ylabel(\"Proportion of Unique Models\");"
   ]
  },
  {
   "cell_type": "markdown",
   "metadata": {},
   "source": [
    "#### More unique models using alternative sources of fuel in 2018 compared to 2008 , increased by 6.75%"
   ]
  },
  {
   "cell_type": "markdown",
   "metadata": {},
   "source": [
    "### Q2: How much have vehicle classes improved in fuel economy?"
   ]
  },
  {
   "cell_type": "markdown",
   "metadata": {},
   "source": [
    "#### Grouping by veh_class and comparing the combined miles per gallon mean"
   ]
  },
  {
   "cell_type": "code",
   "execution_count": 89,
   "metadata": {},
   "outputs": [
    {
     "data": {
      "text/plain": [
       "veh_class\n",
       "SUV              18.471429\n",
       "large car        18.509091\n",
       "midsize car      21.601449\n",
       "minivan          19.117647\n",
       "pickup           16.277108\n",
       "small car        21.105105\n",
       "station wagon    22.366667\n",
       "van              14.952381\n",
       "Name: cmb_mpg, dtype: float64"
      ]
     },
     "execution_count": 89,
     "metadata": {},
     "output_type": "execute_result"
    }
   ],
   "source": [
    "veh_08 = df_08.groupby('veh_class').cmb_mpg.mean()\n",
    "veh_08"
   ]
  },
  {
   "cell_type": "code",
   "execution_count": 90,
   "metadata": {},
   "outputs": [
    {
     "data": {
      "text/plain": [
       "veh_class\n",
       "large car          23.409091\n",
       "midsize car        27.884058\n",
       "minivan            20.800000\n",
       "pickup             18.589744\n",
       "small SUV          24.074074\n",
       "small car          25.421053\n",
       "special purpose    18.500000\n",
       "standard SUV       18.197674\n",
       "station wagon      27.529412\n",
       "Name: cmb_mpg, dtype: float64"
      ]
     },
     "execution_count": 90,
     "metadata": {},
     "output_type": "execute_result"
    }
   ],
   "source": [
    "veh_18 = df_18.groupby('veh_class').cmb_mpg.mean()\n",
    "veh_18"
   ]
  },
  {
   "cell_type": "code",
   "execution_count": 91,
   "metadata": {},
   "outputs": [
    {
     "data": {
      "text/plain": [
       "(array(['SUV', 'midsize car', 'small car', 'station wagon', 'large car',\n",
       "        'minivan', 'van', 'pickup'], dtype=object),\n",
       " array(['small SUV', 'small car', 'midsize car', 'large car',\n",
       "        'standard SUV', 'station wagon', 'pickup', 'special purpose',\n",
       "        'minivan'], dtype=object))"
      ]
     },
     "execution_count": 91,
     "metadata": {},
     "output_type": "execute_result"
    }
   ],
   "source": [
    "df_08['veh_class'].unique(), df_18['veh_class'].unique()"
   ]
  },
  {
   "cell_type": "code",
   "execution_count": 93,
   "metadata": {},
   "outputs": [
    {
     "data": {
      "text/plain": [
       "veh_class\n",
       "SUV                     NaN\n",
       "large car          4.900000\n",
       "midsize car        6.282609\n",
       "minivan            1.682353\n",
       "pickup             2.312635\n",
       "small SUV               NaN\n",
       "small car          4.315948\n",
       "special purpose         NaN\n",
       "standard SUV            NaN\n",
       "station wagon      5.162745\n",
       "van                     NaN\n",
       "Name: cmb_mpg, dtype: float64"
      ]
     },
     "execution_count": 93,
     "metadata": {},
     "output_type": "execute_result"
    }
   ],
   "source": [
    "# how much they've increased by for each vehicle class\n",
    "inc = veh_18 - veh_08\n",
    "inc"
   ]
  },
  {
   "cell_type": "code",
   "execution_count": 94,
   "metadata": {},
   "outputs": [
    {
     "data": {
      "image/png": "[encoded data removed]",
      "text/plain": [
       "<Figure size 576x360 with 1 Axes>"
      ]
     },
     "metadata": {
      "needs_background": "light"
     },
     "output_type": "display_data"
    }
   ],
   "source": [
    "# only plot the classes that exist in both years\n",
    "inc.dropna(inplace=True)\n",
    "plt.subplots(figsize=(8, 5))\n",
    "plt.bar(inc.index, inc)\n",
    "plt.title('Improvements in Fuel Economy from 2008 to 2018 by Vehicle Class')\n",
    "plt.xlabel('Vehicle Class')\n",
    "plt.ylabel('Increase in Average Combined MPG');"
   ]
  },
  {
   "cell_type": "markdown",
   "metadata": {},
   "source": [
    "#### In general we can see a trend that the different class of vehicles shows improvement in the combined miles per gallon performance"
   ]
  },
  {
   "cell_type": "markdown",
   "metadata": {},
   "source": [
    "### Q3: What are the characteristics of SmartWay vehicles? Have they changed over time?"
   ]
  },
  {
   "cell_type": "markdown",
   "metadata": {},
   "source": [
    "#### Extracting SmartWay vehicles"
   ]
  },
  {
   "cell_type": "code",
   "execution_count": 95,
   "metadata": {},
   "outputs": [
    {
     "data": {
      "text/plain": [
       "array(['no', 'yes'], dtype=object)"
      ]
     },
     "execution_count": 95,
     "metadata": {},
     "output_type": "execute_result"
    }
   ],
   "source": [
    "df_08[\"smartway\"].unique()"
   ]
  },
  {
   "cell_type": "code",
   "execution_count": 96,
   "metadata": {},
   "outputs": [],
   "source": [
    "# get all smartway vehicles in 2008\n",
    "smart_08 = df_08.query('smartway == \"yes\"')"
   ]
  },
  {
   "cell_type": "code",
   "execution_count": 97,
   "metadata": {},
   "outputs": [
    {
     "data": {
      "text/html": [
       "<div>\n",
       "<style scoped>\n",
       "    .dataframe tbody tr th:only-of-type {\n",
       "        vertical-align: middle;\n",
       "    }\n",
       "\n",
       "    .dataframe tbody tr th {\n",
       "        vertical-align: top;\n",
       "    }\n",
       "\n",
       "    .dataframe thead th {\n",
       "        text-align: right;\n",
       "    }\n",
       "</style>\n",
       "<table border=\"1\" class=\"dataframe\">\n",
       "  <thead>\n",
       "    <tr style=\"text-align: right;\">\n",
       "      <th></th>\n",
       "      <th>displ</th>\n",
       "      <th>cyl</th>\n",
       "      <th>air_pollution_score</th>\n",
       "      <th>city_mpg</th>\n",
       "      <th>hwy_mpg</th>\n",
       "      <th>cmb_mpg</th>\n",
       "      <th>greenhouse_gas_score</th>\n",
       "    </tr>\n",
       "  </thead>\n",
       "  <tbody>\n",
       "    <tr>\n",
       "      <th>count</th>\n",
       "      <td>380.000000</td>\n",
       "      <td>380.000000</td>\n",
       "      <td>380.000000</td>\n",
       "      <td>380.000000</td>\n",
       "      <td>380.000000</td>\n",
       "      <td>380.000000</td>\n",
       "      <td>380.000000</td>\n",
       "    </tr>\n",
       "    <tr>\n",
       "      <th>mean</th>\n",
       "      <td>2.602895</td>\n",
       "      <td>4.826316</td>\n",
       "      <td>7.365789</td>\n",
       "      <td>20.984211</td>\n",
       "      <td>28.413158</td>\n",
       "      <td>23.736842</td>\n",
       "      <td>6.868421</td>\n",
       "    </tr>\n",
       "    <tr>\n",
       "      <th>std</th>\n",
       "      <td>0.623436</td>\n",
       "      <td>1.002025</td>\n",
       "      <td>1.148195</td>\n",
       "      <td>3.442672</td>\n",
       "      <td>3.075194</td>\n",
       "      <td>3.060379</td>\n",
       "      <td>0.827338</td>\n",
       "    </tr>\n",
       "    <tr>\n",
       "      <th>min</th>\n",
       "      <td>1.300000</td>\n",
       "      <td>4.000000</td>\n",
       "      <td>6.000000</td>\n",
       "      <td>17.000000</td>\n",
       "      <td>22.000000</td>\n",
       "      <td>20.000000</td>\n",
       "      <td>6.000000</td>\n",
       "    </tr>\n",
       "    <tr>\n",
       "      <th>25%</th>\n",
       "      <td>2.275000</td>\n",
       "      <td>4.000000</td>\n",
       "      <td>7.000000</td>\n",
       "      <td>19.000000</td>\n",
       "      <td>26.000000</td>\n",
       "      <td>22.000000</td>\n",
       "      <td>6.000000</td>\n",
       "    </tr>\n",
       "    <tr>\n",
       "      <th>50%</th>\n",
       "      <td>2.400000</td>\n",
       "      <td>4.000000</td>\n",
       "      <td>7.000000</td>\n",
       "      <td>20.000000</td>\n",
       "      <td>28.000000</td>\n",
       "      <td>23.000000</td>\n",
       "      <td>7.000000</td>\n",
       "    </tr>\n",
       "    <tr>\n",
       "      <th>75%</th>\n",
       "      <td>3.000000</td>\n",
       "      <td>6.000000</td>\n",
       "      <td>7.000000</td>\n",
       "      <td>22.000000</td>\n",
       "      <td>30.000000</td>\n",
       "      <td>25.000000</td>\n",
       "      <td>7.000000</td>\n",
       "    </tr>\n",
       "    <tr>\n",
       "      <th>max</th>\n",
       "      <td>5.000000</td>\n",
       "      <td>8.000000</td>\n",
       "      <td>9.500000</td>\n",
       "      <td>48.000000</td>\n",
       "      <td>45.000000</td>\n",
       "      <td>46.000000</td>\n",
       "      <td>10.000000</td>\n",
       "    </tr>\n",
       "  </tbody>\n",
       "</table>\n",
       "</div>"
      ],
      "text/plain": [
       "            displ         cyl  air_pollution_score    city_mpg     hwy_mpg  \\\n",
       "count  380.000000  380.000000           380.000000  380.000000  380.000000   \n",
       "mean     2.602895    4.826316             7.365789   20.984211   28.413158   \n",
       "std      0.623436    1.002025             1.148195    3.442672    3.075194   \n",
       "min      1.300000    4.000000             6.000000   17.000000   22.000000   \n",
       "25%      2.275000    4.000000             7.000000   19.000000   26.000000   \n",
       "50%      2.400000    4.000000             7.000000   20.000000   28.000000   \n",
       "75%      3.000000    6.000000             7.000000   22.000000   30.000000   \n",
       "max      5.000000    8.000000             9.500000   48.000000   45.000000   \n",
       "\n",
       "          cmb_mpg  greenhouse_gas_score  \n",
       "count  380.000000            380.000000  \n",
       "mean    23.736842              6.868421  \n",
       "std      3.060379              0.827338  \n",
       "min     20.000000              6.000000  \n",
       "25%     22.000000              6.000000  \n",
       "50%     23.000000              7.000000  \n",
       "75%     25.000000              7.000000  \n",
       "max     46.000000             10.000000  "
      ]
     },
     "execution_count": 97,
     "metadata": {},
     "output_type": "execute_result"
    }
   ],
   "source": [
    "smart_08.describe()"
   ]
  },
  {
   "cell_type": "code",
   "execution_count": 98,
   "metadata": {},
   "outputs": [
    {
     "data": {
      "text/plain": [
       "array(['No', 'Yes', 'Elite'], dtype=object)"
      ]
     },
     "execution_count": 98,
     "metadata": {},
     "output_type": "execute_result"
    }
   ],
   "source": [
    "df_18[\"smartway\"].unique()"
   ]
  },
  {
   "cell_type": "code",
   "execution_count": 99,
   "metadata": {},
   "outputs": [],
   "source": [
    "# get all smartway vehicles in 2018\n",
    "smart_18 = df_18.query('smartway in [\"Yes\", \"Elite\"]')"
   ]
  },
  {
   "cell_type": "code",
   "execution_count": 100,
   "metadata": {},
   "outputs": [
    {
     "data": {
      "text/html": [
       "<div>\n",
       "<style scoped>\n",
       "    .dataframe tbody tr th:only-of-type {\n",
       "        vertical-align: middle;\n",
       "    }\n",
       "\n",
       "    .dataframe tbody tr th {\n",
       "        vertical-align: top;\n",
       "    }\n",
       "\n",
       "    .dataframe thead th {\n",
       "        text-align: right;\n",
       "    }\n",
       "</style>\n",
       "<table border=\"1\" class=\"dataframe\">\n",
       "  <thead>\n",
       "    <tr style=\"text-align: right;\">\n",
       "      <th></th>\n",
       "      <th>displ</th>\n",
       "      <th>cyl</th>\n",
       "      <th>air_pollution_score</th>\n",
       "      <th>city_mpg</th>\n",
       "      <th>hwy_mpg</th>\n",
       "      <th>cmb_mpg</th>\n",
       "      <th>greenhouse_gas_score</th>\n",
       "    </tr>\n",
       "  </thead>\n",
       "  <tbody>\n",
       "    <tr>\n",
       "      <th>count</th>\n",
       "      <td>108.000000</td>\n",
       "      <td>108.000000</td>\n",
       "      <td>108.000000</td>\n",
       "      <td>108.000000</td>\n",
       "      <td>108.000000</td>\n",
       "      <td>108.000000</td>\n",
       "      <td>108.000000</td>\n",
       "    </tr>\n",
       "    <tr>\n",
       "      <th>mean</th>\n",
       "      <td>1.787963</td>\n",
       "      <td>3.935185</td>\n",
       "      <td>5.212963</td>\n",
       "      <td>34.907407</td>\n",
       "      <td>41.472222</td>\n",
       "      <td>37.361111</td>\n",
       "      <td>7.925926</td>\n",
       "    </tr>\n",
       "    <tr>\n",
       "      <th>std</th>\n",
       "      <td>0.408031</td>\n",
       "      <td>0.416329</td>\n",
       "      <td>1.798498</td>\n",
       "      <td>16.431982</td>\n",
       "      <td>13.095236</td>\n",
       "      <td>14.848429</td>\n",
       "      <td>1.197378</td>\n",
       "    </tr>\n",
       "    <tr>\n",
       "      <th>min</th>\n",
       "      <td>1.200000</td>\n",
       "      <td>3.000000</td>\n",
       "      <td>3.000000</td>\n",
       "      <td>25.000000</td>\n",
       "      <td>27.000000</td>\n",
       "      <td>26.000000</td>\n",
       "      <td>7.000000</td>\n",
       "    </tr>\n",
       "    <tr>\n",
       "      <th>25%</th>\n",
       "      <td>1.500000</td>\n",
       "      <td>4.000000</td>\n",
       "      <td>3.000000</td>\n",
       "      <td>28.000000</td>\n",
       "      <td>36.000000</td>\n",
       "      <td>31.000000</td>\n",
       "      <td>7.000000</td>\n",
       "    </tr>\n",
       "    <tr>\n",
       "      <th>50%</th>\n",
       "      <td>1.700000</td>\n",
       "      <td>4.000000</td>\n",
       "      <td>5.500000</td>\n",
       "      <td>28.500000</td>\n",
       "      <td>37.000000</td>\n",
       "      <td>32.000000</td>\n",
       "      <td>7.000000</td>\n",
       "    </tr>\n",
       "    <tr>\n",
       "      <th>75%</th>\n",
       "      <td>2.000000</td>\n",
       "      <td>4.000000</td>\n",
       "      <td>7.000000</td>\n",
       "      <td>31.250000</td>\n",
       "      <td>40.250000</td>\n",
       "      <td>35.000000</td>\n",
       "      <td>9.000000</td>\n",
       "    </tr>\n",
       "    <tr>\n",
       "      <th>max</th>\n",
       "      <td>3.500000</td>\n",
       "      <td>6.000000</td>\n",
       "      <td>7.000000</td>\n",
       "      <td>113.000000</td>\n",
       "      <td>99.000000</td>\n",
       "      <td>106.000000</td>\n",
       "      <td>10.000000</td>\n",
       "    </tr>\n",
       "  </tbody>\n",
       "</table>\n",
       "</div>"
      ],
      "text/plain": [
       "            displ         cyl  air_pollution_score    city_mpg     hwy_mpg  \\\n",
       "count  108.000000  108.000000           108.000000  108.000000  108.000000   \n",
       "mean     1.787963    3.935185             5.212963   34.907407   41.472222   \n",
       "std      0.408031    0.416329             1.798498   16.431982   13.095236   \n",
       "min      1.200000    3.000000             3.000000   25.000000   27.000000   \n",
       "25%      1.500000    4.000000             3.000000   28.000000   36.000000   \n",
       "50%      1.700000    4.000000             5.500000   28.500000   37.000000   \n",
       "75%      2.000000    4.000000             7.000000   31.250000   40.250000   \n",
       "max      3.500000    6.000000             7.000000  113.000000   99.000000   \n",
       "\n",
       "          cmb_mpg  greenhouse_gas_score  \n",
       "count  108.000000            108.000000  \n",
       "mean    37.361111              7.925926  \n",
       "std     14.848429              1.197378  \n",
       "min     26.000000              7.000000  \n",
       "25%     31.000000              7.000000  \n",
       "50%     32.000000              7.000000  \n",
       "75%     35.000000              9.000000  \n",
       "max    106.000000             10.000000  "
      ]
     },
     "execution_count": 100,
     "metadata": {},
     "output_type": "execute_result"
    }
   ],
   "source": [
    "smart_18.describe()"
   ]
  },
  {
   "cell_type": "markdown",
   "metadata": {},
   "source": [
    "### Q4: What features are associated with better fuel economy?"
   ]
  },
  {
   "cell_type": "markdown",
   "metadata": {},
   "source": [
    "#### Explore trends between cmb_mpg and the other features in this dataset for all vehicles that have the better than average fuel efficiency"
   ]
  },
  {
   "cell_type": "code",
   "execution_count": 101,
   "metadata": {},
   "outputs": [
    {
     "data": {
      "text/html": [
       "<div>\n",
       "<style scoped>\n",
       "    .dataframe tbody tr th:only-of-type {\n",
       "        vertical-align: middle;\n",
       "    }\n",
       "\n",
       "    .dataframe tbody tr th {\n",
       "        vertical-align: top;\n",
       "    }\n",
       "\n",
       "    .dataframe thead th {\n",
       "        text-align: right;\n",
       "    }\n",
       "</style>\n",
       "<table border=\"1\" class=\"dataframe\">\n",
       "  <thead>\n",
       "    <tr style=\"text-align: right;\">\n",
       "      <th></th>\n",
       "      <th>displ</th>\n",
       "      <th>cyl</th>\n",
       "      <th>air_pollution_score</th>\n",
       "      <th>city_mpg</th>\n",
       "      <th>hwy_mpg</th>\n",
       "      <th>cmb_mpg</th>\n",
       "      <th>greenhouse_gas_score</th>\n",
       "    </tr>\n",
       "  </thead>\n",
       "  <tbody>\n",
       "    <tr>\n",
       "      <th>count</th>\n",
       "      <td>519.000000</td>\n",
       "      <td>519.000000</td>\n",
       "      <td>519.000000</td>\n",
       "      <td>519.000000</td>\n",
       "      <td>519.000000</td>\n",
       "      <td>519.000000</td>\n",
       "      <td>519.000000</td>\n",
       "    </tr>\n",
       "    <tr>\n",
       "      <th>mean</th>\n",
       "      <td>2.667823</td>\n",
       "      <td>4.890173</td>\n",
       "      <td>6.998073</td>\n",
       "      <td>20.317919</td>\n",
       "      <td>27.603083</td>\n",
       "      <td>22.992293</td>\n",
       "      <td>6.639692</td>\n",
       "    </tr>\n",
       "    <tr>\n",
       "      <th>std</th>\n",
       "      <td>0.665551</td>\n",
       "      <td>1.034856</td>\n",
       "      <td>1.159565</td>\n",
       "      <td>3.198257</td>\n",
       "      <td>3.051120</td>\n",
       "      <td>2.926371</td>\n",
       "      <td>0.804935</td>\n",
       "    </tr>\n",
       "    <tr>\n",
       "      <th>min</th>\n",
       "      <td>1.300000</td>\n",
       "      <td>4.000000</td>\n",
       "      <td>4.000000</td>\n",
       "      <td>17.000000</td>\n",
       "      <td>20.000000</td>\n",
       "      <td>20.000000</td>\n",
       "      <td>6.000000</td>\n",
       "    </tr>\n",
       "    <tr>\n",
       "      <th>25%</th>\n",
       "      <td>2.300000</td>\n",
       "      <td>4.000000</td>\n",
       "      <td>6.000000</td>\n",
       "      <td>18.000000</td>\n",
       "      <td>25.000000</td>\n",
       "      <td>21.000000</td>\n",
       "      <td>6.000000</td>\n",
       "    </tr>\n",
       "    <tr>\n",
       "      <th>50%</th>\n",
       "      <td>2.500000</td>\n",
       "      <td>4.000000</td>\n",
       "      <td>7.000000</td>\n",
       "      <td>20.000000</td>\n",
       "      <td>27.000000</td>\n",
       "      <td>22.000000</td>\n",
       "      <td>6.000000</td>\n",
       "    </tr>\n",
       "    <tr>\n",
       "      <th>75%</th>\n",
       "      <td>3.000000</td>\n",
       "      <td>6.000000</td>\n",
       "      <td>7.000000</td>\n",
       "      <td>21.000000</td>\n",
       "      <td>29.000000</td>\n",
       "      <td>24.000000</td>\n",
       "      <td>7.000000</td>\n",
       "    </tr>\n",
       "    <tr>\n",
       "      <th>max</th>\n",
       "      <td>6.000000</td>\n",
       "      <td>8.000000</td>\n",
       "      <td>9.500000</td>\n",
       "      <td>48.000000</td>\n",
       "      <td>45.000000</td>\n",
       "      <td>46.000000</td>\n",
       "      <td>10.000000</td>\n",
       "    </tr>\n",
       "  </tbody>\n",
       "</table>\n",
       "</div>"
      ],
      "text/plain": [
       "            displ         cyl  air_pollution_score    city_mpg     hwy_mpg  \\\n",
       "count  519.000000  519.000000           519.000000  519.000000  519.000000   \n",
       "mean     2.667823    4.890173             6.998073   20.317919   27.603083   \n",
       "std      0.665551    1.034856             1.159565    3.198257    3.051120   \n",
       "min      1.300000    4.000000             4.000000   17.000000   20.000000   \n",
       "25%      2.300000    4.000000             6.000000   18.000000   25.000000   \n",
       "50%      2.500000    4.000000             7.000000   20.000000   27.000000   \n",
       "75%      3.000000    6.000000             7.000000   21.000000   29.000000   \n",
       "max      6.000000    8.000000             9.500000   48.000000   45.000000   \n",
       "\n",
       "          cmb_mpg  greenhouse_gas_score  \n",
       "count  519.000000            519.000000  \n",
       "mean    22.992293              6.639692  \n",
       "std      2.926371              0.804935  \n",
       "min     20.000000              6.000000  \n",
       "25%     21.000000              6.000000  \n",
       "50%     22.000000              6.000000  \n",
       "75%     24.000000              7.000000  \n",
       "max     46.000000             10.000000  "
      ]
     },
     "execution_count": 101,
     "metadata": {},
     "output_type": "execute_result"
    }
   ],
   "source": [
    "top_08 = df_08.query('cmb_mpg > cmb_mpg.mean()')\n",
    "top_08.describe()"
   ]
  },
  {
   "cell_type": "code",
   "execution_count": 102,
   "metadata": {},
   "outputs": [
    {
     "data": {
      "text/html": [
       "<div>\n",
       "<style scoped>\n",
       "    .dataframe tbody tr th:only-of-type {\n",
       "        vertical-align: middle;\n",
       "    }\n",
       "\n",
       "    .dataframe tbody tr th {\n",
       "        vertical-align: top;\n",
       "    }\n",
       "\n",
       "    .dataframe thead th {\n",
       "        text-align: right;\n",
       "    }\n",
       "</style>\n",
       "<table border=\"1\" class=\"dataframe\">\n",
       "  <thead>\n",
       "    <tr style=\"text-align: right;\">\n",
       "      <th></th>\n",
       "      <th>displ</th>\n",
       "      <th>cyl</th>\n",
       "      <th>air_pollution_score</th>\n",
       "      <th>city_mpg</th>\n",
       "      <th>hwy_mpg</th>\n",
       "      <th>cmb_mpg</th>\n",
       "      <th>greenhouse_gas_score</th>\n",
       "    </tr>\n",
       "  </thead>\n",
       "  <tbody>\n",
       "    <tr>\n",
       "      <th>count</th>\n",
       "      <td>328.000000</td>\n",
       "      <td>328.000000</td>\n",
       "      <td>328.000000</td>\n",
       "      <td>328.000000</td>\n",
       "      <td>328.000000</td>\n",
       "      <td>328.000000</td>\n",
       "      <td>328.000000</td>\n",
       "    </tr>\n",
       "    <tr>\n",
       "      <th>mean</th>\n",
       "      <td>1.964329</td>\n",
       "      <td>4.021341</td>\n",
       "      <td>4.856707</td>\n",
       "      <td>27.472561</td>\n",
       "      <td>35.304878</td>\n",
       "      <td>30.411585</td>\n",
       "      <td>6.329268</td>\n",
       "    </tr>\n",
       "    <tr>\n",
       "      <th>std</th>\n",
       "      <td>0.398593</td>\n",
       "      <td>0.465477</td>\n",
       "      <td>1.860802</td>\n",
       "      <td>11.033692</td>\n",
       "      <td>9.024857</td>\n",
       "      <td>10.081539</td>\n",
       "      <td>1.410358</td>\n",
       "    </tr>\n",
       "    <tr>\n",
       "      <th>min</th>\n",
       "      <td>1.200000</td>\n",
       "      <td>3.000000</td>\n",
       "      <td>1.000000</td>\n",
       "      <td>21.000000</td>\n",
       "      <td>27.000000</td>\n",
       "      <td>25.000000</td>\n",
       "      <td>4.000000</td>\n",
       "    </tr>\n",
       "    <tr>\n",
       "      <th>25%</th>\n",
       "      <td>1.600000</td>\n",
       "      <td>4.000000</td>\n",
       "      <td>3.000000</td>\n",
       "      <td>23.000000</td>\n",
       "      <td>31.000000</td>\n",
       "      <td>26.000000</td>\n",
       "      <td>5.000000</td>\n",
       "    </tr>\n",
       "    <tr>\n",
       "      <th>50%</th>\n",
       "      <td>2.000000</td>\n",
       "      <td>4.000000</td>\n",
       "      <td>5.000000</td>\n",
       "      <td>25.000000</td>\n",
       "      <td>33.000000</td>\n",
       "      <td>28.000000</td>\n",
       "      <td>6.000000</td>\n",
       "    </tr>\n",
       "    <tr>\n",
       "      <th>75%</th>\n",
       "      <td>2.000000</td>\n",
       "      <td>4.000000</td>\n",
       "      <td>7.000000</td>\n",
       "      <td>28.000000</td>\n",
       "      <td>36.000000</td>\n",
       "      <td>31.000000</td>\n",
       "      <td>7.000000</td>\n",
       "    </tr>\n",
       "    <tr>\n",
       "      <th>max</th>\n",
       "      <td>3.500000</td>\n",
       "      <td>6.000000</td>\n",
       "      <td>7.000000</td>\n",
       "      <td>113.000000</td>\n",
       "      <td>99.000000</td>\n",
       "      <td>106.000000</td>\n",
       "      <td>10.000000</td>\n",
       "    </tr>\n",
       "  </tbody>\n",
       "</table>\n",
       "</div>"
      ],
      "text/plain": [
       "            displ         cyl  air_pollution_score    city_mpg     hwy_mpg  \\\n",
       "count  328.000000  328.000000           328.000000  328.000000  328.000000   \n",
       "mean     1.964329    4.021341             4.856707   27.472561   35.304878   \n",
       "std      0.398593    0.465477             1.860802   11.033692    9.024857   \n",
       "min      1.200000    3.000000             1.000000   21.000000   27.000000   \n",
       "25%      1.600000    4.000000             3.000000   23.000000   31.000000   \n",
       "50%      2.000000    4.000000             5.000000   25.000000   33.000000   \n",
       "75%      2.000000    4.000000             7.000000   28.000000   36.000000   \n",
       "max      3.500000    6.000000             7.000000  113.000000   99.000000   \n",
       "\n",
       "          cmb_mpg  greenhouse_gas_score  \n",
       "count  328.000000            328.000000  \n",
       "mean    30.411585              6.329268  \n",
       "std     10.081539              1.410358  \n",
       "min     25.000000              4.000000  \n",
       "25%     26.000000              5.000000  \n",
       "50%     28.000000              6.000000  \n",
       "75%     31.000000              7.000000  \n",
       "max    106.000000             10.000000  "
      ]
     },
     "execution_count": 102,
     "metadata": {},
     "output_type": "execute_result"
    }
   ],
   "source": [
    "top_18 = df_18.query('cmb_mpg > cmb_mpg.mean()')\n",
    "top_18.describe()"
   ]
  },
  {
   "cell_type": "markdown",
   "metadata": {},
   "source": [
    "### Q5: For all of the models that were produced in 2008 that are still being produced now, how much has the mpg improved and which vehicle improved the most?"
   ]
  },
  {
   "cell_type": "code",
   "execution_count": 103,
   "metadata": {},
   "outputs": [],
   "source": [
    "df_08 = pd.read_csv(\"clean_08.csv\")\n",
    "df_18 = pd.read_csv(\"clean_18.csv\")"
   ]
  },
  {
   "cell_type": "markdown",
   "metadata": {},
   "source": [
    "### Merging the two datasets. (Inner Join)"
   ]
  },
  {
   "cell_type": "code",
   "execution_count": 104,
   "metadata": {},
   "outputs": [],
   "source": [
    "# Merge datasets\n",
    "# rename 2008 columns\n",
    "df_08.rename(columns=lambda x: x[:10]+\"_2008\", inplace=True)\n",
    "# merge datasets\n",
    "df_combined = pd.merge(df_08,df_18,left_on='model_2008', right_on='model', how='inner')"
   ]
  },
  {
   "cell_type": "code",
   "execution_count": 105,
   "metadata": {},
   "outputs": [
    {
     "data": {
      "text/html": [
       "<div>\n",
       "<style scoped>\n",
       "    .dataframe tbody tr th:only-of-type {\n",
       "        vertical-align: middle;\n",
       "    }\n",
       "\n",
       "    .dataframe tbody tr th {\n",
       "        vertical-align: top;\n",
       "    }\n",
       "\n",
       "    .dataframe thead th {\n",
       "        text-align: right;\n",
       "    }\n",
       "</style>\n",
       "<table border=\"1\" class=\"dataframe\">\n",
       "  <thead>\n",
       "    <tr style=\"text-align: right;\">\n",
       "      <th></th>\n",
       "      <th>model_2008</th>\n",
       "      <th>displ_2008</th>\n",
       "      <th>cyl_2008</th>\n",
       "      <th>trans_2008</th>\n",
       "      <th>drive_2008</th>\n",
       "      <th>fuel_2008</th>\n",
       "      <th>veh_class_2008</th>\n",
       "      <th>air_pollut_2008</th>\n",
       "      <th>city_mpg_2008</th>\n",
       "      <th>hwy_mpg_2008</th>\n",
       "      <th>...</th>\n",
       "      <th>trans</th>\n",
       "      <th>drive</th>\n",
       "      <th>fuel</th>\n",
       "      <th>veh_class</th>\n",
       "      <th>air_pollution_score</th>\n",
       "      <th>city_mpg</th>\n",
       "      <th>hwy_mpg</th>\n",
       "      <th>cmb_mpg</th>\n",
       "      <th>greenhouse_gas_score</th>\n",
       "      <th>smartway</th>\n",
       "    </tr>\n",
       "  </thead>\n",
       "  <tbody>\n",
       "    <tr>\n",
       "      <th>0</th>\n",
       "      <td>ACURA RDX</td>\n",
       "      <td>2.3</td>\n",
       "      <td>4</td>\n",
       "      <td>Auto-S5</td>\n",
       "      <td>4WD</td>\n",
       "      <td>Gasoline</td>\n",
       "      <td>SUV</td>\n",
       "      <td>7.0</td>\n",
       "      <td>17.0</td>\n",
       "      <td>22.0</td>\n",
       "      <td>...</td>\n",
       "      <td>SemiAuto-6</td>\n",
       "      <td>2WD</td>\n",
       "      <td>Gasoline</td>\n",
       "      <td>small SUV</td>\n",
       "      <td>3.0</td>\n",
       "      <td>20.0</td>\n",
       "      <td>28.0</td>\n",
       "      <td>23.0</td>\n",
       "      <td>5</td>\n",
       "      <td>No</td>\n",
       "    </tr>\n",
       "    <tr>\n",
       "      <th>1</th>\n",
       "      <td>ACURA RDX</td>\n",
       "      <td>2.3</td>\n",
       "      <td>4</td>\n",
       "      <td>Auto-S5</td>\n",
       "      <td>4WD</td>\n",
       "      <td>Gasoline</td>\n",
       "      <td>SUV</td>\n",
       "      <td>7.0</td>\n",
       "      <td>17.0</td>\n",
       "      <td>22.0</td>\n",
       "      <td>...</td>\n",
       "      <td>SemiAuto-6</td>\n",
       "      <td>4WD</td>\n",
       "      <td>Gasoline</td>\n",
       "      <td>small SUV</td>\n",
       "      <td>3.0</td>\n",
       "      <td>19.0</td>\n",
       "      <td>27.0</td>\n",
       "      <td>22.0</td>\n",
       "      <td>4</td>\n",
       "      <td>No</td>\n",
       "    </tr>\n",
       "    <tr>\n",
       "      <th>2</th>\n",
       "      <td>AUDI A3</td>\n",
       "      <td>2.0</td>\n",
       "      <td>4</td>\n",
       "      <td>Man-6</td>\n",
       "      <td>2WD</td>\n",
       "      <td>Gasoline</td>\n",
       "      <td>station wagon</td>\n",
       "      <td>7.0</td>\n",
       "      <td>21.0</td>\n",
       "      <td>29.0</td>\n",
       "      <td>...</td>\n",
       "      <td>AMS-6</td>\n",
       "      <td>4WD</td>\n",
       "      <td>Gasoline</td>\n",
       "      <td>small car</td>\n",
       "      <td>7.0</td>\n",
       "      <td>24.0</td>\n",
       "      <td>31.0</td>\n",
       "      <td>27.0</td>\n",
       "      <td>6</td>\n",
       "      <td>No</td>\n",
       "    </tr>\n",
       "    <tr>\n",
       "      <th>3</th>\n",
       "      <td>AUDI A3</td>\n",
       "      <td>2.0</td>\n",
       "      <td>4</td>\n",
       "      <td>Man-6</td>\n",
       "      <td>2WD</td>\n",
       "      <td>Gasoline</td>\n",
       "      <td>station wagon</td>\n",
       "      <td>7.0</td>\n",
       "      <td>21.0</td>\n",
       "      <td>29.0</td>\n",
       "      <td>...</td>\n",
       "      <td>AMS-7</td>\n",
       "      <td>2WD</td>\n",
       "      <td>Gasoline</td>\n",
       "      <td>small car</td>\n",
       "      <td>7.0</td>\n",
       "      <td>26.0</td>\n",
       "      <td>35.0</td>\n",
       "      <td>29.0</td>\n",
       "      <td>6</td>\n",
       "      <td>No</td>\n",
       "    </tr>\n",
       "    <tr>\n",
       "      <th>4</th>\n",
       "      <td>AUDI A3</td>\n",
       "      <td>2.0</td>\n",
       "      <td>4</td>\n",
       "      <td>Auto-S6</td>\n",
       "      <td>2WD</td>\n",
       "      <td>Gasoline</td>\n",
       "      <td>station wagon</td>\n",
       "      <td>7.0</td>\n",
       "      <td>22.0</td>\n",
       "      <td>29.0</td>\n",
       "      <td>...</td>\n",
       "      <td>AMS-6</td>\n",
       "      <td>4WD</td>\n",
       "      <td>Gasoline</td>\n",
       "      <td>small car</td>\n",
       "      <td>7.0</td>\n",
       "      <td>24.0</td>\n",
       "      <td>31.0</td>\n",
       "      <td>27.0</td>\n",
       "      <td>6</td>\n",
       "      <td>No</td>\n",
       "    </tr>\n",
       "  </tbody>\n",
       "</table>\n",
       "<p>5 rows × 26 columns</p>\n",
       "</div>"
      ],
      "text/plain": [
       "  model_2008  displ_2008  cyl_2008 trans_2008 drive_2008 fuel_2008  \\\n",
       "0  ACURA RDX         2.3         4    Auto-S5        4WD  Gasoline   \n",
       "1  ACURA RDX         2.3         4    Auto-S5        4WD  Gasoline   \n",
       "2    AUDI A3         2.0         4      Man-6        2WD  Gasoline   \n",
       "3    AUDI A3         2.0         4      Man-6        2WD  Gasoline   \n",
       "4    AUDI A3         2.0         4    Auto-S6        2WD  Gasoline   \n",
       "\n",
       "  veh_class_2008  air_pollut_2008  city_mpg_2008  hwy_mpg_2008  ...  \\\n",
       "0            SUV              7.0           17.0          22.0  ...   \n",
       "1            SUV              7.0           17.0          22.0  ...   \n",
       "2  station wagon              7.0           21.0          29.0  ...   \n",
       "3  station wagon              7.0           21.0          29.0  ...   \n",
       "4  station wagon              7.0           22.0          29.0  ...   \n",
       "\n",
       "        trans  drive      fuel  veh_class  air_pollution_score  city_mpg  \\\n",
       "0  SemiAuto-6    2WD  Gasoline  small SUV                  3.0      20.0   \n",
       "1  SemiAuto-6    4WD  Gasoline  small SUV                  3.0      19.0   \n",
       "2       AMS-6    4WD  Gasoline  small car                  7.0      24.0   \n",
       "3       AMS-7    2WD  Gasoline  small car                  7.0      26.0   \n",
       "4       AMS-6    4WD  Gasoline  small car                  7.0      24.0   \n",
       "\n",
       "  hwy_mpg cmb_mpg greenhouse_gas_score smartway  \n",
       "0    28.0    23.0                    5       No  \n",
       "1    27.0    22.0                    4       No  \n",
       "2    31.0    27.0                    6       No  \n",
       "3    35.0    29.0                    6       No  \n",
       "4    31.0    27.0                    6       No  \n",
       "\n",
       "[5 rows x 26 columns]"
      ]
     },
     "execution_count": 105,
     "metadata": {},
     "output_type": "execute_result"
    }
   ],
   "source": [
    "# view to check merge\n",
    "df_combined.head()"
   ]
  },
  {
   "cell_type": "code",
   "execution_count": 107,
   "metadata": {},
   "outputs": [
    {
     "data": {
      "text/html": [
       "<div>\n",
       "<style scoped>\n",
       "    .dataframe tbody tr th:only-of-type {\n",
       "        vertical-align: middle;\n",
       "    }\n",
       "\n",
       "    .dataframe tbody tr th {\n",
       "        vertical-align: top;\n",
       "    }\n",
       "\n",
       "    .dataframe thead th {\n",
       "        text-align: right;\n",
       "    }\n",
       "</style>\n",
       "<table border=\"1\" class=\"dataframe\">\n",
       "  <thead>\n",
       "    <tr style=\"text-align: right;\">\n",
       "      <th></th>\n",
       "      <th>cmb_mpg_2008</th>\n",
       "      <th>cmb_mpg</th>\n",
       "    </tr>\n",
       "    <tr>\n",
       "      <th>model</th>\n",
       "      <th></th>\n",
       "      <th></th>\n",
       "    </tr>\n",
       "  </thead>\n",
       "  <tbody>\n",
       "    <tr>\n",
       "      <th>ACURA RDX</th>\n",
       "      <td>19.000000</td>\n",
       "      <td>22.500000</td>\n",
       "    </tr>\n",
       "    <tr>\n",
       "      <th>AUDI A3</th>\n",
       "      <td>23.333333</td>\n",
       "      <td>28.000000</td>\n",
       "    </tr>\n",
       "    <tr>\n",
       "      <th>AUDI A4</th>\n",
       "      <td>21.000000</td>\n",
       "      <td>27.000000</td>\n",
       "    </tr>\n",
       "    <tr>\n",
       "      <th>AUDI A6</th>\n",
       "      <td>19.666667</td>\n",
       "      <td>25.666667</td>\n",
       "    </tr>\n",
       "    <tr>\n",
       "      <th>AUDI A8 L</th>\n",
       "      <td>16.500000</td>\n",
       "      <td>22.000000</td>\n",
       "    </tr>\n",
       "  </tbody>\n",
       "</table>\n",
       "</div>"
      ],
      "text/plain": [
       "           cmb_mpg_2008    cmb_mpg\n",
       "model                             \n",
       "ACURA RDX     19.000000  22.500000\n",
       "AUDI A3       23.333333  28.000000\n",
       "AUDI A4       21.000000  27.000000\n",
       "AUDI A6       19.666667  25.666667\n",
       "AUDI A8 L     16.500000  22.000000"
      ]
     },
     "execution_count": 107,
     "metadata": {},
     "output_type": "execute_result"
    }
   ],
   "source": [
    "#Create a new dataframe, model_mpg, that contain the mean combined mpg values in 2008 and 2018 for each unique model \n",
    "#To do this, group by model and find the mean cmb_mpg_2008 and mean cmb_mpg for each.\n",
    "model_mpg = df_combined.groupby('model').mean()[['cmb_mpg_2008', 'cmb_mpg']]\n",
    "# get two columns' mean at the same time \n",
    "model_mpg.head()"
   ]
  },
  {
   "cell_type": "markdown",
   "metadata": {},
   "source": [
    "Create a new column, mpg_change, with the change in mpg . Subtract the mean mpg in 2008 from that in 2018 to get the change in mpg"
   ]
  },
  {
   "cell_type": "code",
   "execution_count": 108,
   "metadata": {},
   "outputs": [
    {
     "data": {
      "text/html": [
       "<div>\n",
       "<style scoped>\n",
       "    .dataframe tbody tr th:only-of-type {\n",
       "        vertical-align: middle;\n",
       "    }\n",
       "\n",
       "    .dataframe tbody tr th {\n",
       "        vertical-align: top;\n",
       "    }\n",
       "\n",
       "    .dataframe thead th {\n",
       "        text-align: right;\n",
       "    }\n",
       "</style>\n",
       "<table border=\"1\" class=\"dataframe\">\n",
       "  <thead>\n",
       "    <tr style=\"text-align: right;\">\n",
       "      <th></th>\n",
       "      <th>cmb_mpg_2008</th>\n",
       "      <th>cmb_mpg</th>\n",
       "      <th>mpg_change</th>\n",
       "    </tr>\n",
       "    <tr>\n",
       "      <th>model</th>\n",
       "      <th></th>\n",
       "      <th></th>\n",
       "      <th></th>\n",
       "    </tr>\n",
       "  </thead>\n",
       "  <tbody>\n",
       "    <tr>\n",
       "      <th>ACURA RDX</th>\n",
       "      <td>19.000000</td>\n",
       "      <td>22.500000</td>\n",
       "      <td>3.500000</td>\n",
       "    </tr>\n",
       "    <tr>\n",
       "      <th>AUDI A3</th>\n",
       "      <td>23.333333</td>\n",
       "      <td>28.000000</td>\n",
       "      <td>4.666667</td>\n",
       "    </tr>\n",
       "    <tr>\n",
       "      <th>AUDI A4</th>\n",
       "      <td>21.000000</td>\n",
       "      <td>27.000000</td>\n",
       "      <td>6.000000</td>\n",
       "    </tr>\n",
       "    <tr>\n",
       "      <th>AUDI A6</th>\n",
       "      <td>19.666667</td>\n",
       "      <td>25.666667</td>\n",
       "      <td>6.000000</td>\n",
       "    </tr>\n",
       "    <tr>\n",
       "      <th>AUDI A8 L</th>\n",
       "      <td>16.500000</td>\n",
       "      <td>22.000000</td>\n",
       "      <td>5.500000</td>\n",
       "    </tr>\n",
       "  </tbody>\n",
       "</table>\n",
       "</div>"
      ],
      "text/plain": [
       "           cmb_mpg_2008    cmb_mpg  mpg_change\n",
       "model                                         \n",
       "ACURA RDX     19.000000  22.500000    3.500000\n",
       "AUDI A3       23.333333  28.000000    4.666667\n",
       "AUDI A4       21.000000  27.000000    6.000000\n",
       "AUDI A6       19.666667  25.666667    6.000000\n",
       "AUDI A8 L     16.500000  22.000000    5.500000"
      ]
     },
     "execution_count": 108,
     "metadata": {},
     "output_type": "execute_result"
    }
   ],
   "source": [
    "model_mpg['mpg_change'] = model_mpg['cmb_mpg'] - model_mpg['cmb_mpg_2008']\n",
    "model_mpg.head()"
   ]
  },
  {
   "cell_type": "markdown",
   "metadata": {},
   "source": [
    "#### From the above table we can see the models and the corresponding improvements in the miles per gallon.\n",
    "\n",
    "#### We can also get the vehicle which has the max  change in MPG from 2008 to 2018."
   ]
  },
  {
   "cell_type": "code",
   "execution_count": 109,
   "metadata": {},
   "outputs": [
    {
     "data": {
      "text/plain": [
       "16.53333333333334"
      ]
     },
     "execution_count": 109,
     "metadata": {},
     "output_type": "execute_result"
    }
   ],
   "source": [
    "max_change = model_mpg['mpg_change'].max()\n",
    "max_change"
   ]
  },
  {
   "cell_type": "code",
   "execution_count": 110,
   "metadata": {},
   "outputs": [
    {
     "data": {
      "text/plain": [
       "'VOLVO XC 90'"
      ]
     },
     "execution_count": 110,
     "metadata": {},
     "output_type": "execute_result"
    }
   ],
   "source": [
    "model_mpg[model_mpg['mpg_change'] == max_change].index[0]"
   ]
  }
 ],
 "metadata": {
  "kernelspec": {
   "display_name": "Python 3.7 (tensorflow)",
   "language": "python",
   "name": "tensorflow"
  },
  "language_info": {
   "codemirror_mode": {
    "name": "ipython",
    "version": 3
   },
   "file_extension": ".py",
   "mimetype": "text/x-python",
   "name": "python",
   "nbconvert_exporter": "python",
   "pygments_lexer": "ipython3",
   "version": "3.7.7"
  }
 },
 "nbformat": 4,
 "nbformat_minor": 4
}
